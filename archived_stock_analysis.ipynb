{
 "cells": [
  {
   "cell_type": "markdown",
   "metadata": {},
   "source": [
    "# Stock Analysis - PCA and KMeans Unsupervised Methods"
   ]
  },
  {
   "cell_type": "code",
   "execution_count": 3,
   "metadata": {},
   "outputs": [],
   "source": [
    "# import context manager: SparkSession\n",
    "from pyspark.sql import SparkSession\n",
    "\n",
    "# import data types\n",
    "from pyspark.sql.types import StructType, StructField, StringType, IntegerType, DoubleType, BooleanType\n",
    "import pyspark.sql.types as typ\n",
    "import pyspark.sql.functions as F\n",
    "import os\n",
    "\n",
    "#from pyspark.mllib.evaluation import MulticlassMetrics\n",
    "\n",
    "from pyspark.sql.types import *\n",
    "\n",
    "spark = SparkSession.builder \\\n",
    "        .master(\"local[*]\") \\\n",
    "        .appName(\"mllib_classifier\") \\\n",
    "        .config(\"spark.executor.memory\", '10g') \\\n",
    "        .config('spark.executor.cores', '10') \\\n",
    "        .config('spark.executor.instances', '1') \\\n",
    "        .config(\"spark.driver.memory\",'2g') \\\n",
    "        .getOrCreate()\n",
    "\n",
    "sc = spark.sparkContext\n",
    "\n",
    "# import data manipulation methods\n",
    "from pyspark.ml import Pipeline  \n",
    "from pyspark.ml.feature import *  \n",
    "from pyspark.ml.classification import LogisticRegression\n",
    "\n",
    "from pyspark.ml.linalg import DenseVector\n",
    "#from pyspark.mllib.linalg import Vectors\n",
    "\n",
    "from pyspark.sql import SQLContext\n",
    "sqlContext = SQLContext(sc)\n",
    "\n",
    "from pyspark.ml.clustering import KMeans\n",
    "from pyspark.ml.evaluation import ClusteringEvaluator"
   ]
  },
  {
   "cell_type": "markdown",
   "metadata": {},
   "source": [
    "Import the file as an RDD. Since its CSV, the split is very easy."
   ]
  },
  {
   "cell_type": "code",
   "execution_count": 4,
   "metadata": {},
   "outputs": [],
   "source": [
    "all_data = sc.textFile('/../../project/ds5559/Alice_Ed_Michael_Sam_project/BigTrips.csv')\n",
    "all_data = all_data.map(lambda x: x.split(\",\"))"
   ]
  },
  {
   "cell_type": "markdown",
   "metadata": {},
   "source": [
    "For development purposes, take a subsample."
   ]
  },
  {
   "cell_type": "code",
   "execution_count": 5,
   "metadata": {},
   "outputs": [],
   "source": [
    "rdd = sc.parallelize(all_data.take(1000))"
   ]
  },
  {
   "cell_type": "markdown",
   "metadata": {},
   "source": [
    "Since it's an RDD, remove the header row. Convert to a dataframe."
   ]
  },
  {
   "cell_type": "code",
   "execution_count": 6,
   "metadata": {},
   "outputs": [],
   "source": [
    "header = rdd.take(1)[0]\n",
    "rdd = rdd.filter(lambda x: x != header)\n",
    "final_DF = rdd.toDF()"
   ]
  },
  {
   "cell_type": "markdown",
   "metadata": {},
   "source": [
    "Extract out just the trip id and start timestamp. Using pyspark sql functions, convert to a proper timestamp data type. Repeat for end timestamp."
   ]
  },
  {
   "cell_type": "code",
   "execution_count": 7,
   "metadata": {},
   "outputs": [],
   "source": [
    "#https://stackoverflow.com/questions/53304688/spark-date-format-mmm-dd-yyyy-hhmmss-am-to-timestamp-in-df\n",
    "#https://spark.apache.org/docs/latest/sql-ref-datetime-pattern.html\n",
    "start_times = rdd.map(lambda x: (x[0],x[1]))\n",
    "start_times = start_times.toDF()\n",
    "st = start_times.withColumn(\"Trip_Start_Timestamp\",F.to_timestamp(F.col(\"_2\"), \"MM/dd/yyyy hh:mm:ss a\"))"
   ]
  },
  {
   "cell_type": "code",
   "execution_count": 8,
   "metadata": {},
   "outputs": [],
   "source": [
    "end_times = rdd.map(lambda x: (x[0],x[2]))\n",
    "end_times = end_times.toDF()\n",
    "et = end_times.withColumn(\"Trip_End_Timestamp\",F.to_timestamp(F.col(\"_2\"), \"MM/dd/yyyy hh:mm:ss a\"))"
   ]
  },
  {
   "cell_type": "markdown",
   "metadata": {},
   "source": [
    "Put data back together with our timestamp fields. Cast all our fields to their proper data types and rename. The original timestamp fields we keep with suffix \"_str\""
   ]
  },
  {
   "cell_type": "code",
   "execution_count": 9,
   "metadata": {},
   "outputs": [],
   "source": [
    "final_DF = final_DF.join(st.select(\"_1\",\"Trip_Start_Timestamp\"),on=\"_1\").join(et.select(\"_1\",\"Trip_End_Timestamp\"),on=\"_1\")"
   ]
  },
  {
   "cell_type": "code",
   "execution_count": 10,
   "metadata": {},
   "outputs": [],
   "source": [
    "final_DF = final_DF.withColumn('Trip_Seconds',F.col('_4').cast(\"integer\"))\n",
    "final_DF = final_DF.withColumn('Trip_Miles',F.col('_5').cast(\"double\"))\n",
    "final_DF = final_DF.withColumn('Pickup_Community_Area',F.col('_8').cast(\"integer\"))\n",
    "final_DF = final_DF.withColumn('Dropoff_Community_Area',F.col('_9').cast(\"integer\"))\n",
    "final_DF = final_DF.withColumn('Fare',F.col('_10').cast(\"double\"))\n",
    "final_DF = final_DF.withColumn('Tip',F.col('_11').cast(\"double\"))\n",
    "final_DF = final_DF.withColumn('Additional_Charges',F.col('_12').cast(\"double\"))\n",
    "final_DF = final_DF.withColumn('Trip_Total',F.col('_13').cast(\"double\"))\n",
    "final_DF = final_DF.withColumn('Shared_Trip_Authorized',F.col('_14').cast(\"boolean\"))\n",
    "final_DF = final_DF.withColumn('Trips_Pooled',F.col('_15').cast(\"integer\"))"
   ]
  },
  {
   "cell_type": "code",
   "execution_count": 11,
   "metadata": {},
   "outputs": [],
   "source": [
    "final_DF = final_DF.withColumnRenamed(\"_1\",\"trip_id\") \\\n",
    "                    .withColumnRenamed(\"_2\",\"Trip_Start_Timestamp_str\") \\\n",
    "                    .withColumnRenamed(\"_3\",\"Trip_End_Timestamp_str\") \\\n",
    "                    .withColumnRenamed(\"_4\",\"Trip_Seconds_str\") \\\n",
    "                    .withColumnRenamed(\"_5\",\"Trip_Miles_str\") \\\n",
    "                    .withColumnRenamed(\"_6\",\"Pickup_Census_Tract\") \\\n",
    "                    .withColumnRenamed(\"_7\",\"Dropoff_Census_Tract\") \\\n",
    "                    .withColumnRenamed(\"_8\",\"Pickup_Community_Area_str\") \\\n",
    "                    .withColumnRenamed(\"_9\",\"Dropoff_Community_Area_str\") \\\n",
    "                    .withColumnRenamed(\"_10\",\"Fare_str\") \\\n",
    "                    .withColumnRenamed(\"_11\",\"Tip_str\") \\\n",
    "                    .withColumnRenamed(\"_12\",\"Additional_Charges_str\") \\\n",
    "                    .withColumnRenamed(\"_13\",\"Trip_Total_str\") \\\n",
    "                    .withColumnRenamed(\"_14\",\"Shared_Trip_Authorized_str\") \\\n",
    "                    .withColumnRenamed(\"_15\",\"Trips_Pooled_str\") \\\n",
    "                    .withColumnRenamed(\"_16\",\"Pickup_Centroid_Latitude\") \\\n",
    "                    .withColumnRenamed(\"_17\",\"Pickup_Centroid_Longitude\") \\\n",
    "                    .withColumnRenamed(\"_18\",\"Pickup_Centroid_Location\") \\\n",
    "                    .withColumnRenamed(\"_19\",\"Dropoff_Centroid_Latitude\") \\\n",
    "                    .withColumnRenamed(\"_20\",\"Dropoff_Centroid_Longitude\") \\\n",
    "                    .withColumnRenamed(\"_21\",\"Dropoff_Centroid_Location\")"
   ]
  },
  {
   "cell_type": "code",
   "execution_count": 12,
   "metadata": {},
   "outputs": [
    {
     "name": "stdout",
     "output_type": "stream",
     "text": [
      "root\n",
      " |-- trip_id: string (nullable = true)\n",
      " |-- Trip_Start_Timestamp_str: string (nullable = true)\n",
      " |-- Trip_End_Timestamp_str: string (nullable = true)\n",
      " |-- Trip_Seconds_str: string (nullable = true)\n",
      " |-- Trip_Miles_str: string (nullable = true)\n",
      " |-- Pickup_Census_Tract: string (nullable = true)\n",
      " |-- Dropoff_Census_Tract: string (nullable = true)\n",
      " |-- Pickup_Community_Area_str: string (nullable = true)\n",
      " |-- Dropoff_Community_Area_str: string (nullable = true)\n",
      " |-- Fare_str: string (nullable = true)\n",
      " |-- Tip_str: string (nullable = true)\n",
      " |-- Additional_Charges_str: string (nullable = true)\n",
      " |-- Trip_Total_str: string (nullable = true)\n",
      " |-- Shared_Trip_Authorized_str: string (nullable = true)\n",
      " |-- Trips_Pooled_str: string (nullable = true)\n",
      " |-- Pickup_Centroid_Latitude: string (nullable = true)\n",
      " |-- Pickup_Centroid_Longitude: string (nullable = true)\n",
      " |-- Pickup_Centroid_Location: string (nullable = true)\n",
      " |-- Dropoff_Centroid_Latitude: string (nullable = true)\n",
      " |-- Dropoff_Centroid_Longitude: string (nullable = true)\n",
      " |-- Dropoff_Centroid_Location: string (nullable = true)\n",
      " |-- Trip_Start_Timestamp: timestamp (nullable = true)\n",
      " |-- Trip_End_Timestamp: timestamp (nullable = true)\n",
      " |-- Trip_Seconds: integer (nullable = true)\n",
      " |-- Trip_Miles: double (nullable = true)\n",
      " |-- Pickup_Community_Area: integer (nullable = true)\n",
      " |-- Dropoff_Community_Area: integer (nullable = true)\n",
      " |-- Fare: double (nullable = true)\n",
      " |-- Tip: double (nullable = true)\n",
      " |-- Additional_Charges: double (nullable = true)\n",
      " |-- Trip_Total: double (nullable = true)\n",
      " |-- Shared_Trip_Authorized: boolean (nullable = true)\n",
      " |-- Trips_Pooled: integer (nullable = true)\n",
      "\n"
     ]
    }
   ],
   "source": [
    "final_DF.printSchema()"
   ]
  },
  {
   "cell_type": "code",
   "execution_count": 13,
   "metadata": {},
   "outputs": [
    {
     "data": {
      "text/plain": [
       "DataFrame[trip_id: string, Trip_Start_Timestamp_str: string, Trip_End_Timestamp_str: string, Trip_Seconds_str: string, Trip_Miles_str: string, Pickup_Census_Tract: string, Dropoff_Census_Tract: string, Pickup_Community_Area_str: string, Dropoff_Community_Area_str: string, Fare_str: string, Tip_str: string, Additional_Charges_str: string, Trip_Total_str: string, Shared_Trip_Authorized_str: string, Trips_Pooled_str: string, Pickup_Centroid_Latitude: string, Pickup_Centroid_Longitude: string, Pickup_Centroid_Location: string, Dropoff_Centroid_Latitude: string, Dropoff_Centroid_Longitude: string, Dropoff_Centroid_Location: string, Trip_Start_Timestamp: timestamp, Trip_End_Timestamp: timestamp, Trip_Seconds: int, Trip_Miles: double, Pickup_Community_Area: int, Dropoff_Community_Area: int, Fare: double, Tip: double, Additional_Charges: double, Trip_Total: double, Shared_Trip_Authorized: boolean, Trips_Pooled: int]"
      ]
     },
     "execution_count": 13,
     "metadata": {},
     "output_type": "execute_result"
    }
   ],
   "source": [
    "final_DF.cache()"
   ]
  },
  {
   "cell_type": "markdown",
   "metadata": {},
   "source": [
    "Add in columns with various date and time values from our trip start and end. Arbitarily choose start time to pull year, month, week number, day of week, and date from."
   ]
  },
  {
   "cell_type": "code",
   "execution_count": 14,
   "metadata": {},
   "outputs": [],
   "source": [
    "#https://spark.apache.org/docs/latest/api/python/reference/pyspark.sql.html#data-types\n",
    "final_DF = final_DF.withColumn(\"Trip_Year\", F.year(F.col(\"Trip_Start_Timestamp\"))) \\\n",
    "                    .withColumn(\"Trip_Month\", F.month(F.col(\"Trip_Start_Timestamp\"))) \\\n",
    "                    .withColumn(\"Trip_WeekNumber\", F.weekofyear(F.col(\"Trip_Start_Timestamp\"))) \\\n",
    "                    .withColumn(\"Trip_DayofWeek\", F.dayofweek(F.col(\"Trip_Start_Timestamp\"))) \\\n",
    "                    .withColumn(\"Trip_Start_Hour\", F.hour(F.col(\"Trip_Start_Timestamp\"))) \\\n",
    "                    .withColumn(\"Trip_End_Hour\", F.hour(F.col(\"Trip_End_Timestamp\"))) \\\n",
    "                    .withColumn(\"Date\", F.to_date(F.col(\"Trip_Start_Timestamp\")))"
   ]
  },
  {
   "cell_type": "code",
   "execution_count": 15,
   "metadata": {},
   "outputs": [
    {
     "name": "stdout",
     "output_type": "stream",
     "text": [
      "root\n",
      " |-- trip_id: string (nullable = true)\n",
      " |-- Trip_Start_Timestamp_str: string (nullable = true)\n",
      " |-- Trip_End_Timestamp_str: string (nullable = true)\n",
      " |-- Trip_Seconds_str: string (nullable = true)\n",
      " |-- Trip_Miles_str: string (nullable = true)\n",
      " |-- Pickup_Census_Tract: string (nullable = true)\n",
      " |-- Dropoff_Census_Tract: string (nullable = true)\n",
      " |-- Pickup_Community_Area_str: string (nullable = true)\n",
      " |-- Dropoff_Community_Area_str: string (nullable = true)\n",
      " |-- Fare_str: string (nullable = true)\n",
      " |-- Tip_str: string (nullable = true)\n",
      " |-- Additional_Charges_str: string (nullable = true)\n",
      " |-- Trip_Total_str: string (nullable = true)\n",
      " |-- Shared_Trip_Authorized_str: string (nullable = true)\n",
      " |-- Trips_Pooled_str: string (nullable = true)\n",
      " |-- Pickup_Centroid_Latitude: string (nullable = true)\n",
      " |-- Pickup_Centroid_Longitude: string (nullable = true)\n",
      " |-- Pickup_Centroid_Location: string (nullable = true)\n",
      " |-- Dropoff_Centroid_Latitude: string (nullable = true)\n",
      " |-- Dropoff_Centroid_Longitude: string (nullable = true)\n",
      " |-- Dropoff_Centroid_Location: string (nullable = true)\n",
      " |-- Trip_Start_Timestamp: timestamp (nullable = true)\n",
      " |-- Trip_End_Timestamp: timestamp (nullable = true)\n",
      " |-- Trip_Seconds: integer (nullable = true)\n",
      " |-- Trip_Miles: double (nullable = true)\n",
      " |-- Pickup_Community_Area: integer (nullable = true)\n",
      " |-- Dropoff_Community_Area: integer (nullable = true)\n",
      " |-- Fare: double (nullable = true)\n",
      " |-- Tip: double (nullable = true)\n",
      " |-- Additional_Charges: double (nullable = true)\n",
      " |-- Trip_Total: double (nullable = true)\n",
      " |-- Shared_Trip_Authorized: boolean (nullable = true)\n",
      " |-- Trips_Pooled: integer (nullable = true)\n",
      " |-- Trip_Year: integer (nullable = true)\n",
      " |-- Trip_Month: integer (nullable = true)\n",
      " |-- Trip_WeekNumber: integer (nullable = true)\n",
      " |-- Trip_DayofWeek: integer (nullable = true)\n",
      " |-- Trip_Start_Hour: integer (nullable = true)\n",
      " |-- Trip_End_Hour: integer (nullable = true)\n",
      " |-- Date: date (nullable = true)\n",
      "\n"
     ]
    }
   ],
   "source": [
    "final_DF.printSchema()"
   ]
  },
  {
   "cell_type": "code",
   "execution_count": 16,
   "metadata": {},
   "outputs": [
    {
     "name": "stdout",
     "output_type": "stream",
     "text": [
      "+--------------------+------------------------+----------------------+----------------+--------------+-------------------+--------------------+-------------------------+--------------------------+--------+-------+----------------------+--------------+--------------------------+----------------+------------------------+-------------------------+------------------------+-------------------------+--------------------------+-------------------------+--------------------+-------------------+------------+----------+---------------------+----------------------+----+---+------------------+----------+----------------------+------------+---------+----------+---------------+--------------+---------------+-------------+----------+\n",
      "|             trip_id|Trip_Start_Timestamp_str|Trip_End_Timestamp_str|Trip_Seconds_str|Trip_Miles_str|Pickup_Census_Tract|Dropoff_Census_Tract|Pickup_Community_Area_str|Dropoff_Community_Area_str|Fare_str|Tip_str|Additional_Charges_str|Trip_Total_str|Shared_Trip_Authorized_str|Trips_Pooled_str|Pickup_Centroid_Latitude|Pickup_Centroid_Longitude|Pickup_Centroid_Location|Dropoff_Centroid_Latitude|Dropoff_Centroid_Longitude|Dropoff_Centroid_Location|Trip_Start_Timestamp| Trip_End_Timestamp|Trip_Seconds|Trip_Miles|Pickup_Community_Area|Dropoff_Community_Area|Fare|Tip|Additional_Charges|Trip_Total|Shared_Trip_Authorized|Trips_Pooled|Trip_Year|Trip_Month|Trip_WeekNumber|Trip_DayofWeek|Trip_Start_Hour|Trip_End_Hour|      Date|\n",
      "+--------------------+------------------------+----------------------+----------------+--------------+-------------------+--------------------+-------------------------+--------------------------+--------+-------+----------------------+--------------+--------------------------+----------------+------------------------+-------------------------+------------------------+-------------------------+--------------------------+-------------------------+--------------------+-------------------+------------+----------+---------------------+----------------------+----+---+------------------+----------+----------------------+------------+---------+----------+---------------+--------------+---------------+-------------+----------+\n",
      "|223544ca91e6673d8...|    12/01/2019 12:15:...|  12/01/2019 12:30:...|             439|           1.8|        17031833000|         17031320400|                       28|                        32|       5|      0|                  2.55|          7.55|                     false|               1|           41.8852813201|           -87.6572331997|    POINT (-87.657233...|            41.8774061234|            -87.6219716519|     POINT (-87.621971...| 2019-12-01 00:15:00|2019-12-01 00:30:00|         439|       1.8|                   28|                    32| 5.0|0.0|              2.55|      7.55|                 false|           1|     2019|        12|             48|             1|              0|            0|2019-12-01|\n",
      "|48a964334659ab16c...|    12/01/2019 12:15:...|  12/01/2019 12:15:...|             315|           1.4|        17031190402|         17031190800|                       19|                        19|       5|      0|                  2.55|          7.55|                     false|               1|           41.9348600057|           -87.7712319246|    POINT (-87.771231...|             41.927819073|            -87.7513626916|     POINT (-87.751362...| 2019-12-01 00:15:00|2019-12-01 00:15:00|         315|       1.4|                   19|                    19| 5.0|0.0|              2.55|      7.55|                 false|           1|     2019|        12|             48|             1|              0|            0|2019-12-01|\n",
      "|0c121b5cfcd93656c...|    12/01/2019 12:15:...|  12/01/2019 12:30:...|            1188|           7.9|                   |         17031540101|                         |                        54|      20|      0|                   4.1|          24.1|                     false|               1|                        |                         |                        |            41.6502216756|            -87.5994629948|     POINT (-87.599462...| 2019-12-01 00:15:00|2019-12-01 00:30:00|        1188|       7.9|                 null|                    54|20.0|0.0|               4.1|      24.1|                 false|           1|     2019|        12|             48|             1|              0|            0|2019-12-01|\n",
      "|14688b5167386b9ff...|    12/01/2019 12:15:...|  12/01/2019 12:30:...|            1020|           8.0|                   |                    |                       72|                        48|    12.5|      0|                  2.55|         15.05|                     false|               1|            41.713148612|           -87.6750753124|    POINT (-87.675075...|            41.7296764229|            -87.5727171342|     POINT (-87.572717...| 2019-12-01 00:15:00|2019-12-01 00:30:00|        1020|       8.0|                   72|                    48|12.5|0.0|              2.55|     15.05|                 false|           1|     2019|        12|             48|             1|              0|            0|2019-12-01|\n",
      "|1ba18533f29744063...|    12/01/2019 12:15:...|  12/01/2019 12:30:...|             286|           0.6|        17031320100|         17031081700|                       32|                         8|     2.5|      0|                  2.55|          5.05|                     false|               1|           41.8849871918|           -87.6209929134|    POINT (-87.620992...|            41.8920421365|            -87.6318639497|     POINT (-87.631863...| 2019-12-01 00:15:00|2019-12-01 00:30:00|         286|       0.6|                   32|                     8| 2.5|0.0|              2.55|      5.05|                 false|           1|     2019|        12|             48|             1|              0|            0|2019-12-01|\n",
      "+--------------------+------------------------+----------------------+----------------+--------------+-------------------+--------------------+-------------------------+--------------------------+--------+-------+----------------------+--------------+--------------------------+----------------+------------------------+-------------------------+------------------------+-------------------------+--------------------------+-------------------------+--------------------+-------------------+------------+----------+---------------------+----------------------+----+---+------------------+----------+----------------------+------------+---------+----------+---------------+--------------+---------------+-------------+----------+\n",
      "only showing top 5 rows\n",
      "\n"
     ]
    }
   ],
   "source": [
    "final_DF.show(5)"
   ]
  },
  {
   "cell_type": "markdown",
   "metadata": {},
   "source": [
    "For the first few hundred thousand records, the date will be the same. Distinct dates in our data can be checked here."
   ]
  },
  {
   "cell_type": "code",
   "execution_count": 17,
   "metadata": {},
   "outputs": [
    {
     "name": "stdout",
     "output_type": "stream",
     "text": [
      "+----------+\n",
      "|Date      |\n",
      "+----------+\n",
      "|2019-12-01|\n",
      "+----------+\n",
      "\n"
     ]
    }
   ],
   "source": [
    "final_DF.select(\"Date\").distinct().show(truncate=False)"
   ]
  },
  {
   "cell_type": "markdown",
   "metadata": {},
   "source": [
    "Pull in Uber and Lyft stock price information. One record per day. Rename fields with their company as prefixes so names will be unique in final dataframe."
   ]
  },
  {
   "cell_type": "code",
   "execution_count": 18,
   "metadata": {},
   "outputs": [],
   "source": [
    "#pulled from Yahoo Finance\n",
    "UBER_stock = sqlContext.read.csv(\"UBER_stock.csv\",header=True,inferSchema=True)\n",
    "LYFT_stock = sqlContext.read.csv(\"LYFT_stock.csv\",header=True,inferSchema=True)"
   ]
  },
  {
   "cell_type": "code",
   "execution_count": 19,
   "metadata": {},
   "outputs": [],
   "source": [
    "UBER_stock = UBER_stock.toDF(*[\"UBER_\" + x if x != \"Date\" else x for x in UBER_stock.columns])\n",
    "LYFT_stock = LYFT_stock.toDF(*[\"LYFT_\" + x if x != \"Date\" else x for x in LYFT_stock.columns])"
   ]
  },
  {
   "cell_type": "code",
   "execution_count": 20,
   "metadata": {},
   "outputs": [
    {
     "name": "stdout",
     "output_type": "stream",
     "text": [
      "+----------+---------+---------+---------+----------+--------------+-----------+\n",
      "|      Date|UBER_Open|UBER_High| UBER_Low|UBER_Close|UBER_Adj Close|UBER_Volume|\n",
      "+----------+---------+---------+---------+----------+--------------+-----------+\n",
      "|2019-05-10|     42.0|     45.0|41.060001|     41.57|         41.57|  186322500|\n",
      "|2019-05-13|38.790001|39.240002|36.080002| 37.099998|     37.099998|   79442400|\n",
      "|2019-05-14|38.310001|39.959999|36.849998| 39.959999|     39.959999|   46661100|\n",
      "|2019-05-15|39.369999|41.880001|38.950001| 41.290001|     41.290001|   36086100|\n",
      "|2019-05-16|    41.48|44.060001|    41.25|      43.0|          43.0|   38115500|\n",
      "+----------+---------+---------+---------+----------+--------------+-----------+\n",
      "only showing top 5 rows\n",
      "\n"
     ]
    }
   ],
   "source": [
    "UBER_stock.show(5)"
   ]
  },
  {
   "cell_type": "code",
   "execution_count": 21,
   "metadata": {},
   "outputs": [
    {
     "name": "stdout",
     "output_type": "stream",
     "text": [
      "+----------+---------+---------+---------+----------+--------------+-----------+\n",
      "|      Date|LYFT_Open|LYFT_High| LYFT_Low|LYFT_Close|LYFT_Adj Close|LYFT_Volume|\n",
      "+----------+---------+---------+---------+----------+--------------+-----------+\n",
      "|2019-03-29|87.330002|88.599998|78.019997| 78.290001|     78.290001|   71485200|\n",
      "|2019-04-01|74.900002|     75.0|67.779999| 69.010002|     69.010002|   41799300|\n",
      "|2019-04-02|66.900002|70.199997|66.099998| 68.970001|     68.970001|   22483300|\n",
      "|2019-04-03|70.059998|     72.0|69.120003|      70.0|          70.0|   15648300|\n",
      "|2019-04-04|70.480003|72.889999|70.220001|      72.0|          72.0|    9229300|\n",
      "+----------+---------+---------+---------+----------+--------------+-----------+\n",
      "only showing top 5 rows\n",
      "\n"
     ]
    }
   ],
   "source": [
    "LYFT_stock.show(5)"
   ]
  },
  {
   "cell_type": "markdown",
   "metadata": {},
   "source": [
    "Join the stock data to our full dataset using the date as our joiner."
   ]
  },
  {
   "cell_type": "code",
   "execution_count": 22,
   "metadata": {},
   "outputs": [],
   "source": [
    "final_DF = final_DF.join(UBER_stock,on=\"Date\",how=\"left\").join(LYFT_stock,on=\"Date\",how=\"left\")"
   ]
  },
  {
   "cell_type": "code",
   "execution_count": 23,
   "metadata": {},
   "outputs": [
    {
     "name": "stdout",
     "output_type": "stream",
     "text": [
      "+----------+--------------------+------------------------+----------------------+----------------+--------------+-------------------+--------------------+-------------------------+--------------------------+--------+-------+----------------------+--------------+--------------------------+----------------+------------------------+-------------------------+------------------------+-------------------------+--------------------------+-------------------------+--------------------+-------------------+------------+----------+---------------------+----------------------+----+---+------------------+----------+----------------------+------------+---------+----------+---------------+--------------+---------------+-------------+---------+---------+--------+----------+--------------+-----------+---------+---------+--------+----------+--------------+-----------+\n",
      "|      Date|             trip_id|Trip_Start_Timestamp_str|Trip_End_Timestamp_str|Trip_Seconds_str|Trip_Miles_str|Pickup_Census_Tract|Dropoff_Census_Tract|Pickup_Community_Area_str|Dropoff_Community_Area_str|Fare_str|Tip_str|Additional_Charges_str|Trip_Total_str|Shared_Trip_Authorized_str|Trips_Pooled_str|Pickup_Centroid_Latitude|Pickup_Centroid_Longitude|Pickup_Centroid_Location|Dropoff_Centroid_Latitude|Dropoff_Centroid_Longitude|Dropoff_Centroid_Location|Trip_Start_Timestamp| Trip_End_Timestamp|Trip_Seconds|Trip_Miles|Pickup_Community_Area|Dropoff_Community_Area|Fare|Tip|Additional_Charges|Trip_Total|Shared_Trip_Authorized|Trips_Pooled|Trip_Year|Trip_Month|Trip_WeekNumber|Trip_DayofWeek|Trip_Start_Hour|Trip_End_Hour|UBER_Open|UBER_High|UBER_Low|UBER_Close|UBER_Adj Close|UBER_Volume|LYFT_Open|LYFT_High|LYFT_Low|LYFT_Close|LYFT_Adj Close|LYFT_Volume|\n",
      "+----------+--------------------+------------------------+----------------------+----------------+--------------+-------------------+--------------------+-------------------------+--------------------------+--------+-------+----------------------+--------------+--------------------------+----------------+------------------------+-------------------------+------------------------+-------------------------+--------------------------+-------------------------+--------------------+-------------------+------------+----------+---------------------+----------------------+----+---+------------------+----------+----------------------+------------+---------+----------+---------------+--------------+---------------+-------------+---------+---------+--------+----------+--------------+-----------+---------+---------+--------+----------+--------------+-----------+\n",
      "|2019-12-01|223544ca91e6673d8...|    12/01/2019 12:15:...|  12/01/2019 12:30:...|             439|           1.8|        17031833000|         17031320400|                       28|                        32|       5|      0|                  2.55|          7.55|                     false|               1|           41.8852813201|           -87.6572331997|    POINT (-87.657233...|            41.8774061234|            -87.6219716519|     POINT (-87.621971...| 2019-12-01 00:15:00|2019-12-01 00:30:00|         439|       1.8|                   28|                    32| 5.0|0.0|              2.55|      7.55|                 false|           1|     2019|        12|             48|             1|              0|            0|     null|     null|    null|      null|          null|       null|     null|     null|    null|      null|          null|       null|\n",
      "|2019-12-01|48a964334659ab16c...|    12/01/2019 12:15:...|  12/01/2019 12:15:...|             315|           1.4|        17031190402|         17031190800|                       19|                        19|       5|      0|                  2.55|          7.55|                     false|               1|           41.9348600057|           -87.7712319246|    POINT (-87.771231...|             41.927819073|            -87.7513626916|     POINT (-87.751362...| 2019-12-01 00:15:00|2019-12-01 00:15:00|         315|       1.4|                   19|                    19| 5.0|0.0|              2.55|      7.55|                 false|           1|     2019|        12|             48|             1|              0|            0|     null|     null|    null|      null|          null|       null|     null|     null|    null|      null|          null|       null|\n",
      "|2019-12-01|0c121b5cfcd93656c...|    12/01/2019 12:15:...|  12/01/2019 12:30:...|            1188|           7.9|                   |         17031540101|                         |                        54|      20|      0|                   4.1|          24.1|                     false|               1|                        |                         |                        |            41.6502216756|            -87.5994629948|     POINT (-87.599462...| 2019-12-01 00:15:00|2019-12-01 00:30:00|        1188|       7.9|                 null|                    54|20.0|0.0|               4.1|      24.1|                 false|           1|     2019|        12|             48|             1|              0|            0|     null|     null|    null|      null|          null|       null|     null|     null|    null|      null|          null|       null|\n",
      "|2019-12-01|14688b5167386b9ff...|    12/01/2019 12:15:...|  12/01/2019 12:30:...|            1020|           8.0|                   |                    |                       72|                        48|    12.5|      0|                  2.55|         15.05|                     false|               1|            41.713148612|           -87.6750753124|    POINT (-87.675075...|            41.7296764229|            -87.5727171342|     POINT (-87.572717...| 2019-12-01 00:15:00|2019-12-01 00:30:00|        1020|       8.0|                   72|                    48|12.5|0.0|              2.55|     15.05|                 false|           1|     2019|        12|             48|             1|              0|            0|     null|     null|    null|      null|          null|       null|     null|     null|    null|      null|          null|       null|\n",
      "|2019-12-01|1ba18533f29744063...|    12/01/2019 12:15:...|  12/01/2019 12:30:...|             286|           0.6|        17031320100|         17031081700|                       32|                         8|     2.5|      0|                  2.55|          5.05|                     false|               1|           41.8849871918|           -87.6209929134|    POINT (-87.620992...|            41.8920421365|            -87.6318639497|     POINT (-87.631863...| 2019-12-01 00:15:00|2019-12-01 00:30:00|         286|       0.6|                   32|                     8| 2.5|0.0|              2.55|      5.05|                 false|           1|     2019|        12|             48|             1|              0|            0|     null|     null|    null|      null|          null|       null|     null|     null|    null|      null|          null|       null|\n",
      "+----------+--------------------+------------------------+----------------------+----------------+--------------+-------------------+--------------------+-------------------------+--------------------------+--------+-------+----------------------+--------------+--------------------------+----------------+------------------------+-------------------------+------------------------+-------------------------+--------------------------+-------------------------+--------------------+-------------------+------------+----------+---------------------+----------------------+----+---+------------------+----------+----------------------+------------+---------+----------+---------------+--------------+---------------+-------------+---------+---------+--------+----------+--------------+-----------+---------+---------+--------+----------+--------------+-----------+\n",
      "only showing top 5 rows\n",
      "\n"
     ]
    }
   ],
   "source": [
    "final_DF.show(5)"
   ]
  },
  {
   "cell_type": "markdown",
   "metadata": {},
   "source": [
    "Code for heatmap visuals, template for any two variables with a third aggregation e.g. year x month with total fare, trip hour x pickup area with count of trips, etc."
   ]
  },
  {
   "cell_type": "code",
   "execution_count": 22,
   "metadata": {},
   "outputs": [],
   "source": [
    "#####multiple aggs at once - aggregate one time and pivot multiple times\n",
    "#heatmap_data = final_DF.groupBy('Trip_Year','Trip_Month').agg(F.sum('Fare').alias(\"Total_Fare\"), F.count(\"trip_id\").alias(\"Trip Count\"))\n",
    "\n",
    "######aggregation for year x month - only useful for millions of records\n",
    "#heatmap_data = final_DF.groupby('Trip_Year','Trip_Month').sum('Fare').sort('Trip_Year','Trip_Month') \\\n",
    "#                        .groupby('Trip_Year').pivot('Trip_Month').sum(\"sum(Fare)\").sort('Trip_Year')"
   ]
  },
  {
   "cell_type": "markdown",
   "metadata": {},
   "source": []
  },
  {
   "cell_type": "code",
   "execution_count": 23,
   "metadata": {},
   "outputs": [],
   "source": [
    "heatmap_data = final_DF.groupby('Trip_Start_Hour','Pickup_Community_Area').sum('Tip').sort('Trip_Start_Hour','Pickup_Community_Area') \\\n",
    "                        .groupby('Trip_Start_Hour').pivot('Pickup_Community_Area').sum(\"sum(Tip)\").sort('Trip_Start_Hour')"
   ]
  },
  {
   "cell_type": "code",
   "execution_count": null,
   "metadata": {},
   "outputs": [],
   "source": [
    "heatmap_data.show(5)"
   ]
  },
  {
   "cell_type": "markdown",
   "metadata": {},
   "source": [
    "Code for PCA and KMeans clustering. Fill in all null values."
   ]
  },
  {
   "cell_type": "code",
   "execution_count": 24,
   "metadata": {},
   "outputs": [],
   "source": [
    "PCA_DF = final_DF"
   ]
  },
  {
   "cell_type": "code",
   "execution_count": 25,
   "metadata": {},
   "outputs": [],
   "source": [
    "PCA_DF = PCA_DF.fillna(\"100\",subset=[\"Pickup_Community_Area\",\"Dropoff_Community_Area\"])"
   ]
  },
  {
   "cell_type": "code",
   "execution_count": 26,
   "metadata": {},
   "outputs": [],
   "source": [
    "PCA_DF = PCA_DF.na.fill(0)"
   ]
  },
  {
   "cell_type": "code",
   "execution_count": 27,
   "metadata": {},
   "outputs": [],
   "source": [
    "PCA_DF = PCA_DF.na.fill(0,subset=[\"Trip_Seconds\", \"Trip_Miles\", \"Fare\", \"Shared_Trip_Authorized\", \"Trips_Pooled\", \\\n",
    "                   \"Trip_WeekNumber\",\"Trip_DayofWeek\",\"Trip_Start_Hour\",\"Trip_End_Hour\",\"UBER_Open\",\"UBER_High\",\"UBER_Low\",\"UBER_Close\",\"UBER_Adj Close\",\"UBER_Volume\", \\\n",
    "                   \"LYFT_Open\",\"LYFT_High\",\"LYFT_Low\",\"LYFT_Close\",\"LYFT_Adj Close\",\"LYFT_Volume\"])"
   ]
  },
  {
   "cell_type": "markdown",
   "metadata": {},
   "source": [
    "Encode our categorical variables."
   ]
  },
  {
   "cell_type": "code",
   "execution_count": 28,
   "metadata": {},
   "outputs": [],
   "source": [
    "pickup_indexer = StringIndexer(inputCol=\"Pickup_Community_Area\", outputCol=\"Pickup_Community_Area_idx\")\n",
    "dropoff_indexer = StringIndexer(inputCol=\"Dropoff_Community_Area\", outputCol=\"Dropoff_Community_Area_idx\")\n",
    "\n",
    "PCA_DF = pickup_indexer.fit(PCA_DF).transform(PCA_DF)\n",
    "PCA_DF = dropoff_indexer.fit(PCA_DF).transform(PCA_DF)"
   ]
  },
  {
   "cell_type": "code",
   "execution_count": 29,
   "metadata": {},
   "outputs": [
    {
     "name": "stdout",
     "output_type": "stream",
     "text": [
      "+-------------------------------------------------------+-------------------------------------------------------+-----------------------------------------------------+---------------------------------------------------------+-----------------------------------------------------------------+-----------------------------------------------------------+-------------------------------------------------------+-------------------------------------------------------+-----------------------------------------------------+---------------------------------------------------------+-----------------------------------------------------------------+-----------------------------------------------------------+\n",
      "|count(CASE WHEN (UBER_Open IS NULL) THEN UBER_Open END)|count(CASE WHEN (UBER_High IS NULL) THEN UBER_High END)|count(CASE WHEN (UBER_Low IS NULL) THEN UBER_Low END)|count(CASE WHEN (UBER_Close IS NULL) THEN UBER_Close END)|count(CASE WHEN (UBER_Adj Close IS NULL) THEN UBER_Adj Close END)|count(CASE WHEN (UBER_Volume IS NULL) THEN UBER_Volume END)|count(CASE WHEN (LYFT_Open IS NULL) THEN LYFT_Open END)|count(CASE WHEN (LYFT_High IS NULL) THEN LYFT_High END)|count(CASE WHEN (LYFT_Low IS NULL) THEN LYFT_Low END)|count(CASE WHEN (LYFT_Close IS NULL) THEN LYFT_Close END)|count(CASE WHEN (LYFT_Adj Close IS NULL) THEN LYFT_Adj Close END)|count(CASE WHEN (LYFT_Volume IS NULL) THEN LYFT_Volume END)|\n",
      "+-------------------------------------------------------+-------------------------------------------------------+-----------------------------------------------------+---------------------------------------------------------+-----------------------------------------------------------------+-----------------------------------------------------------+-------------------------------------------------------+-------------------------------------------------------+-----------------------------------------------------+---------------------------------------------------------+-----------------------------------------------------------------+-----------------------------------------------------------+\n",
      "|                                                      0|                                                      0|                                                    0|                                                        0|                                                                0|                                                          0|                                                      0|                                                      0|                                                    0|                                                        0|                                                                0|                                                          0|\n",
      "+-------------------------------------------------------+-------------------------------------------------------+-----------------------------------------------------+---------------------------------------------------------+-----------------------------------------------------------------+-----------------------------------------------------------+-------------------------------------------------------+-------------------------------------------------------+-----------------------------------------------------+---------------------------------------------------------+-----------------------------------------------------------------+-----------------------------------------------------------+\n",
      "\n"
     ]
    }
   ],
   "source": [
    "PCA_DF.select([F.count(F.when(F.col(c).isNull(),c)) for c in [\"UBER_Open\",\"UBER_High\",\"UBER_Low\",\"UBER_Close\",\"UBER_Adj Close\",\"UBER_Volume\", \\\n",
    "                   \"LYFT_Open\",\"LYFT_High\",\"LYFT_Low\",\"LYFT_Close\",\"LYFT_Adj Close\",\"LYFT_Volume\"]]).show()"
   ]
  },
  {
   "cell_type": "code",
   "execution_count": 30,
   "metadata": {},
   "outputs": [
    {
     "name": "stdout",
     "output_type": "stream",
     "text": [
      "root\n",
      " |-- Date: date (nullable = true)\n",
      " |-- trip_id: string (nullable = true)\n",
      " |-- Trip_Start_Timestamp_str: string (nullable = true)\n",
      " |-- Trip_End_Timestamp_str: string (nullable = true)\n",
      " |-- Trip_Seconds_str: string (nullable = true)\n",
      " |-- Trip_Miles_str: string (nullable = true)\n",
      " |-- Pickup_Census_Tract: string (nullable = true)\n",
      " |-- Dropoff_Census_Tract: string (nullable = true)\n",
      " |-- Pickup_Community_Area_str: string (nullable = true)\n",
      " |-- Dropoff_Community_Area_str: string (nullable = true)\n",
      " |-- Fare_str: string (nullable = true)\n",
      " |-- Tip_str: string (nullable = true)\n",
      " |-- Additional_Charges_str: string (nullable = true)\n",
      " |-- Trip_Total_str: string (nullable = true)\n",
      " |-- Shared_Trip_Authorized_str: string (nullable = true)\n",
      " |-- Trips_Pooled_str: string (nullable = true)\n",
      " |-- Pickup_Centroid_Latitude: string (nullable = true)\n",
      " |-- Pickup_Centroid_Longitude: string (nullable = true)\n",
      " |-- Pickup_Centroid_Location: string (nullable = true)\n",
      " |-- Dropoff_Centroid_Latitude: string (nullable = true)\n",
      " |-- Dropoff_Centroid_Longitude: string (nullable = true)\n",
      " |-- Dropoff_Centroid_Location: string (nullable = true)\n",
      " |-- Trip_Start_Timestamp: timestamp (nullable = true)\n",
      " |-- Trip_End_Timestamp: timestamp (nullable = true)\n",
      " |-- Trip_Seconds: integer (nullable = true)\n",
      " |-- Trip_Miles: double (nullable = false)\n",
      " |-- Pickup_Community_Area: integer (nullable = true)\n",
      " |-- Dropoff_Community_Area: integer (nullable = true)\n",
      " |-- Fare: double (nullable = false)\n",
      " |-- Tip: double (nullable = false)\n",
      " |-- Additional_Charges: double (nullable = false)\n",
      " |-- Trip_Total: double (nullable = false)\n",
      " |-- Shared_Trip_Authorized: boolean (nullable = true)\n",
      " |-- Trips_Pooled: integer (nullable = true)\n",
      " |-- Trip_Year: integer (nullable = true)\n",
      " |-- Trip_Month: integer (nullable = true)\n",
      " |-- Trip_WeekNumber: integer (nullable = true)\n",
      " |-- Trip_DayofWeek: integer (nullable = true)\n",
      " |-- Trip_Start_Hour: integer (nullable = true)\n",
      " |-- Trip_End_Hour: integer (nullable = true)\n",
      " |-- UBER_Open: double (nullable = false)\n",
      " |-- UBER_High: double (nullable = false)\n",
      " |-- UBER_Low: double (nullable = false)\n",
      " |-- UBER_Close: double (nullable = false)\n",
      " |-- UBER_Adj Close: double (nullable = false)\n",
      " |-- UBER_Volume: integer (nullable = true)\n",
      " |-- LYFT_Open: double (nullable = false)\n",
      " |-- LYFT_High: double (nullable = false)\n",
      " |-- LYFT_Low: double (nullable = false)\n",
      " |-- LYFT_Close: double (nullable = false)\n",
      " |-- LYFT_Adj Close: double (nullable = false)\n",
      " |-- LYFT_Volume: integer (nullable = true)\n",
      " |-- Pickup_Community_Area_idx: double (nullable = false)\n",
      " |-- Dropoff_Community_Area_idx: double (nullable = false)\n",
      "\n"
     ]
    }
   ],
   "source": [
    "PCA_DF.printSchema()"
   ]
  },
  {
   "cell_type": "code",
   "execution_count": null,
   "metadata": {},
   "outputs": [],
   "source": []
  },
  {
   "cell_type": "code",
   "execution_count": 31,
   "metadata": {},
   "outputs": [],
   "source": [
    "encoder = OneHotEncoder(inputCols=[\"Pickup_Community_Area_idx\",\"Dropoff_Community_Area_idx\"],outputCols=[\"Pickup_Community_Area_ctgy\",\"Dropoff_Community_Area_ctgy\"])\n",
    "PCA_DF = encoder.fit(PCA_DF).transform(PCA_DF)"
   ]
  },
  {
   "cell_type": "code",
   "execution_count": 32,
   "metadata": {},
   "outputs": [
    {
     "data": {
      "text/plain": [
       "['Date',\n",
       " 'trip_id',\n",
       " 'Trip_Start_Timestamp_str',\n",
       " 'Trip_End_Timestamp_str',\n",
       " 'Trip_Seconds_str',\n",
       " 'Trip_Miles_str',\n",
       " 'Pickup_Census_Tract',\n",
       " 'Dropoff_Census_Tract',\n",
       " 'Pickup_Community_Area_str',\n",
       " 'Dropoff_Community_Area_str',\n",
       " 'Fare_str',\n",
       " 'Tip_str',\n",
       " 'Additional_Charges_str',\n",
       " 'Trip_Total_str',\n",
       " 'Shared_Trip_Authorized_str',\n",
       " 'Trips_Pooled_str',\n",
       " 'Pickup_Centroid_Latitude',\n",
       " 'Pickup_Centroid_Longitude',\n",
       " 'Pickup_Centroid_Location',\n",
       " 'Dropoff_Centroid_Latitude',\n",
       " 'Dropoff_Centroid_Longitude',\n",
       " 'Dropoff_Centroid_Location',\n",
       " 'Trip_Start_Timestamp',\n",
       " 'Trip_End_Timestamp',\n",
       " 'Trip_Seconds',\n",
       " 'Trip_Miles',\n",
       " 'Pickup_Community_Area',\n",
       " 'Dropoff_Community_Area',\n",
       " 'Fare',\n",
       " 'Tip',\n",
       " 'Additional_Charges',\n",
       " 'Trip_Total',\n",
       " 'Shared_Trip_Authorized',\n",
       " 'Trips_Pooled',\n",
       " 'Trip_Year',\n",
       " 'Trip_Month',\n",
       " 'Trip_WeekNumber',\n",
       " 'Trip_DayofWeek',\n",
       " 'Trip_Start_Hour',\n",
       " 'Trip_End_Hour',\n",
       " 'UBER_Open',\n",
       " 'UBER_High',\n",
       " 'UBER_Low',\n",
       " 'UBER_Close',\n",
       " 'UBER_Adj Close',\n",
       " 'UBER_Volume',\n",
       " 'LYFT_Open',\n",
       " 'LYFT_High',\n",
       " 'LYFT_Low',\n",
       " 'LYFT_Close',\n",
       " 'LYFT_Adj Close',\n",
       " 'LYFT_Volume',\n",
       " 'Pickup_Community_Area_idx',\n",
       " 'Dropoff_Community_Area_idx',\n",
       " 'Pickup_Community_Area_ctgy',\n",
       " 'Dropoff_Community_Area_ctgy']"
      ]
     },
     "execution_count": 32,
     "metadata": {},
     "output_type": "execute_result"
    }
   ],
   "source": [
    "PCA_DF.columns"
   ]
  },
  {
   "cell_type": "markdown",
   "metadata": {},
   "source": [
    "Make a list of all final variables appliciable to the algorithms."
   ]
  },
  {
   "cell_type": "code",
   "execution_count": 33,
   "metadata": {},
   "outputs": [],
   "source": [
    "regressors_list = [\"Trip_Seconds\", \"Trip_Miles\", \"Pickup_Community_Area_ctgy\", \"Dropoff_Community_Area_ctgy\", \"Fare\", \"Shared_Trip_Authorized\", \"Trips_Pooled\", \\\n",
    "                   \"Trip_WeekNumber\",\"Trip_DayofWeek\",\"Trip_Start_Hour\",\"Trip_End_Hour\",\"UBER_Open\",\"UBER_High\",\"UBER_Low\",\"UBER_Close\",\"UBER_Adj Close\",\"UBER_Volume\", \\\n",
    "                   \"LYFT_Open\",\"LYFT_High\",\"LYFT_Low\",\"LYFT_Close\",\"LYFT_Adj Close\",\"LYFT_Volume\"]"
   ]
  },
  {
   "cell_type": "code",
   "execution_count": 34,
   "metadata": {},
   "outputs": [],
   "source": [
    "assembler = VectorAssembler(inputCols=regressors_list,outputCol=\"features\")\n",
    "PCA_DF = assembler.transform(PCA_DF)"
   ]
  },
  {
   "cell_type": "markdown",
   "metadata": {},
   "source": [
    "Create PCA and KMeans models. Pull out important information for both."
   ]
  },
  {
   "cell_type": "code",
   "execution_count": 35,
   "metadata": {},
   "outputs": [],
   "source": [
    "pca = PCA(k=2, inputCol=\"features\",outputCol=\"pcaFeature\")\n",
    "pca_model = pca.fit(PCA_DF)"
   ]
  },
  {
   "cell_type": "code",
   "execution_count": 36,
   "metadata": {},
   "outputs": [],
   "source": [
    "PCA = pca_model.transform(PCA_DF).select(\"pcaFeature\")"
   ]
  },
  {
   "cell_type": "markdown",
   "metadata": {},
   "source": [
    "The original data points will need to be rejoined to the PCs to see the "
   ]
  },
  {
   "cell_type": "code",
   "execution_count": 44,
   "metadata": {},
   "outputs": [],
   "source": [
    "import matplotlib.pyplot as plt\n",
    "import numpy as np"
   ]
  },
  {
   "cell_type": "code",
   "execution_count": 59,
   "metadata": {},
   "outputs": [],
   "source": [
    "np.array(PCA.rdd.map(lambda x: x[0]).collect())"
   ]
  },
  {
   "cell_type": "code",
   "execution_count": 99,
   "metadata": {},
   "outputs": [
    {
     "data": {
      "text/plain": [
       "DenseVector([0.9999, 0.0001])"
      ]
     },
     "execution_count": 99,
     "metadata": {},
     "output_type": "execute_result"
    }
   ],
   "source": [
    "pca_model.explainedVariance"
   ]
  },
  {
   "cell_type": "code",
   "execution_count": 105,
   "metadata": {},
   "outputs": [
    {
     "data": {
      "text/plain": [
       "DenseMatrix(157, 2, [-0.9999, -0.0105, 0.0001, 0.0, 0.0, 0.0, 0.0, 0.0, ..., 0.0, 0.0, 0.0, 0.0, 0.0, 0.0, 0.0, 0.0], 0)"
      ]
     },
     "execution_count": 105,
     "metadata": {},
     "output_type": "execute_result"
    }
   ],
   "source": [
    "pca_model.pc"
   ]
  },
  {
   "cell_type": "code",
   "execution_count": null,
   "metadata": {},
   "outputs": [],
   "source": []
  },
  {
   "cell_type": "code",
   "execution_count": 106,
   "metadata": {},
   "outputs": [],
   "source": [
    "kmeans =KMeans().setK(2)\n",
    "kmeans_model = kmeans.fit(PCA_DF)\n",
    "kmeans_summary = kmeans_model.summary"
   ]
  },
  {
   "cell_type": "code",
   "execution_count": 107,
   "metadata": {},
   "outputs": [
    {
     "data": {
      "text/plain": [
       "[238, 761]"
      ]
     },
     "execution_count": 107,
     "metadata": {},
     "output_type": "execute_result"
    }
   ],
   "source": [
    "kmeans_summary.clusterSizes"
   ]
  },
  {
   "cell_type": "code",
   "execution_count": 115,
   "metadata": {},
   "outputs": [
    {
     "name": "stdout",
     "output_type": "stream",
     "text": [
      "+----------+\n",
      "|prediction|\n",
      "+----------+\n",
      "|         1|\n",
      "|         1|\n",
      "|         0|\n",
      "|         1|\n",
      "|         1|\n",
      "|         1|\n",
      "|         1|\n",
      "|         1|\n",
      "|         1|\n",
      "|         0|\n",
      "|         1|\n",
      "|         1|\n",
      "|         1|\n",
      "|         1|\n",
      "|         1|\n",
      "|         1|\n",
      "|         1|\n",
      "|         1|\n",
      "|         0|\n",
      "|         1|\n",
      "+----------+\n",
      "only showing top 20 rows\n",
      "\n"
     ]
    }
   ],
   "source": [
    "kmeans_summary.cluster.show(20)"
   ]
  },
  {
   "cell_type": "code",
   "execution_count": null,
   "metadata": {},
   "outputs": [],
   "source": []
  }
 ],
 "metadata": {
  "kernelspec": {
   "display_name": "DS 5559 Spark 3",
   "language": "python",
   "name": "ds5559_spark3"
  },
  "language_info": {
   "codemirror_mode": {
    "name": "ipython",
    "version": 3
   },
   "file_extension": ".py",
   "mimetype": "text/x-python",
   "name": "python",
   "nbconvert_exporter": "python",
   "pygments_lexer": "ipython3",
   "version": "3.8.5"
  }
 },
 "nbformat": 4,
 "nbformat_minor": 4
}
