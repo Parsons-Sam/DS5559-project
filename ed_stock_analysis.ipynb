{
 "cells": [
  {
   "cell_type": "markdown",
   "metadata": {},
   "source": [
    "# Stock Analysis - PCA and KMeans Unsupervised Methods"
   ]
  },
  {
   "cell_type": "code",
   "execution_count": 1,
   "metadata": {},
   "outputs": [],
   "source": [
    "# import context manager: SparkSession\n",
    "from pyspark.sql import SparkSession\n",
    "\n",
    "# import data types\n",
    "from pyspark.sql.types import StructType, StructField, StringType, IntegerType, DoubleType, BooleanType\n",
    "import pyspark.sql.types as typ\n",
    "import pyspark.sql.functions as F\n",
    "import os\n",
    "\n",
    "#from pyspark.mllib.evaluation import MulticlassMetrics\n",
    "\n",
    "from pyspark.sql.types import *\n",
    "\n",
    "spark = SparkSession.builder \\\n",
    "        .master(\"local[*]\") \\\n",
    "        .appName(\"mllib_classifier\") \\\n",
    "        .config(\"spark.executor.memory\", '10g') \\\n",
    "        .config('spark.executor.cores', '10') \\\n",
    "        .config('spark.executor.instances', '1') \\\n",
    "        .config(\"spark.driver.memory\",'2g') \\\n",
    "        .getOrCreate()\n",
    "\n",
    "sc = spark.sparkContext\n",
    "\n",
    "# import data manipulation methods\n",
    "from pyspark.ml import Pipeline  \n",
    "from pyspark.ml.feature import *  \n",
    "from pyspark.ml.classification import LogisticRegression\n",
    "\n",
    "from pyspark.ml.linalg import DenseVector\n",
    "#from pyspark.mllib.linalg import Vectors\n",
    "\n",
    "from pyspark.sql import SQLContext\n",
    "sqlContext = SQLContext(sc)\n",
    "\n",
    "from pyspark.ml.clustering import KMeans\n",
    "from pyspark.ml.evaluation import ClusteringEvaluator"
   ]
  },
  {
   "cell_type": "markdown",
   "metadata": {},
   "source": [
    "import from other file to ensure everying works... can be edited down later"
   ]
  },
  {
   "cell_type": "code",
   "execution_count": 3,
   "metadata": {},
   "outputs": [],
   "source": [
    "# import context manager: SparkSession\n",
    "from pyspark.sql import SparkSession\n",
    "\n",
    "# import data types\n",
    "from pyspark.sql.types import StructType, StructField, StringType, IntegerType, DoubleType, BooleanType\n",
    "import pyspark.sql.types as typ\n",
    "import pyspark.sql.functions as F\n",
    "import os\n",
    "\n",
    "\n",
    "from pyspark.sql.types import *\n",
    "\n",
    "spark = SparkSession.builder \\\n",
    "        .master(\"local[*]\") \\\n",
    "        .appName(\"mllib_classifier\") \\\n",
    "        .config(\"spark.executor.memory\", '21g') \\\n",
    "        .config('spark.executor.cores', '2') \\\n",
    "        .config('spark.executor.instances', '3') \\\n",
    "        .config(\"spark.driver.memory\",'1g') \\\n",
    "        .getOrCreate()\n",
    "sc = spark.sparkContext\n",
    "\n",
    "# import data manipulation methods\n",
    "from pyspark.ml.feature import Binarizer\n",
    "from pyspark.ml import Pipeline  \n",
    "from pyspark.ml.feature import *  \n",
    "from pyspark.ml.classification import LogisticRegression\n",
    "from pyspark.ml.classification import RandomForestClassifier\n",
    "from pyspark.ml.classification import GBTClassifier\n",
    "\n",
    "from pyspark.ml.linalg import DenseVector\n",
    "from pyspark.ml.feature import VectorAssembler \n",
    "from pyspark.mllib.linalg import Vectors\n",
    "\n",
    "from pyspark.ml.feature import StandardScaler\n",
    "from pyspark.ml.feature import OneHotEncoder\n",
    "#from pyspark.ml.feature import IndexToString, StringIndexer, VectorIndexer\n",
    "from pyspark.ml.evaluation import MulticlassClassificationEvaluator\n",
    "from pyspark.ml.evaluation import BinaryClassificationEvaluator\n",
    "\n",
    "from pyspark.mllib.evaluation import MulticlassMetrics\n",
    "from pyspark.mllib.evaluation import BinaryClassificationMetrics\n",
    "\n",
    "from pyspark.ml.tuning import CrossValidator, ParamGridBuilder\n",
    "\n",
    "import time\n",
    "\n",
    "import numpy as np"
   ]
  },
  {
   "cell_type": "markdown",
   "metadata": {},
   "source": [
    "Import the file as an RDD. Since its CSV, the split is very easy."
   ]
  },
  {
   "cell_type": "code",
   "execution_count": 4,
   "metadata": {},
   "outputs": [],
   "source": [
    "all_data = sc.textFile('/../../project/ds5559/Alice_Ed_Michael_Sam_project/BigTrips.csv')\n",
    "all_data = all_data.map(lambda x: x.split(\",\"))"
   ]
  },
  {
   "cell_type": "markdown",
   "metadata": {},
   "source": [
    "For development purposes, take a subsample."
   ]
  },
  {
   "cell_type": "code",
   "execution_count": 5,
   "metadata": {},
   "outputs": [],
   "source": [
    "rdd = sc.parallelize(all_data.take(1000))"
   ]
  },
  {
   "cell_type": "markdown",
   "metadata": {},
   "source": [
    "Since it's an RDD, remove the header row. Convert to a dataframe."
   ]
  },
  {
   "cell_type": "code",
   "execution_count": 6,
   "metadata": {},
   "outputs": [],
   "source": [
    "header = rdd.take(1)[0]\n",
    "rdd = rdd.filter(lambda x: x != header)\n",
    "final_DF = rdd.toDF()"
   ]
  },
  {
   "cell_type": "markdown",
   "metadata": {},
   "source": [
    "Extract out just the trip id and start timestamp. Using pyspark sql functions, convert to a proper timestamp data type. Repeat for end timestamp."
   ]
  },
  {
   "cell_type": "code",
   "execution_count": 7,
   "metadata": {},
   "outputs": [],
   "source": [
    "#https://stackoverflow.com/questions/53304688/spark-date-format-mmm-dd-yyyy-hhmmss-am-to-timestamp-in-df\n",
    "#https://spark.apache.org/docs/latest/sql-ref-datetime-pattern.html\n",
    "start_times = rdd.map(lambda x: (x[0],x[1]))\n",
    "start_times = start_times.toDF()\n",
    "st = start_times.withColumn(\"Trip_Start_Timestamp\",F.to_timestamp(F.col(\"_2\"), \"MM/dd/yyyy hh:mm:ss a\"))"
   ]
  },
  {
   "cell_type": "code",
   "execution_count": 8,
   "metadata": {},
   "outputs": [],
   "source": [
    "end_times = rdd.map(lambda x: (x[0],x[2]))\n",
    "end_times = end_times.toDF()\n",
    "et = end_times.withColumn(\"Trip_End_Timestamp\",F.to_timestamp(F.col(\"_2\"), \"MM/dd/yyyy hh:mm:ss a\"))"
   ]
  },
  {
   "cell_type": "markdown",
   "metadata": {},
   "source": [
    "Put data back together with our timestamp fields. Cast all our fields to their proper data types and rename. The original timestamp fields we keep with suffix \"_str\""
   ]
  },
  {
   "cell_type": "code",
   "execution_count": 9,
   "metadata": {},
   "outputs": [],
   "source": [
    "final_DF = final_DF.join(st.select(\"_1\",\"Trip_Start_Timestamp\"),on=\"_1\").join(et.select(\"_1\",\"Trip_End_Timestamp\"),on=\"_1\")"
   ]
  },
  {
   "cell_type": "code",
   "execution_count": 10,
   "metadata": {},
   "outputs": [],
   "source": [
    "final_DF = final_DF.withColumn('Trip_Seconds',F.col('_4').cast(\"integer\"))\n",
    "final_DF = final_DF.withColumn('Trip_Miles',F.col('_5').cast(\"double\"))\n",
    "final_DF = final_DF.withColumn('Pickup_Community_Area',F.col('_8').cast(\"integer\"))\n",
    "final_DF = final_DF.withColumn('Dropoff_Community_Area',F.col('_9').cast(\"integer\"))\n",
    "final_DF = final_DF.withColumn('Fare',F.col('_10').cast(\"double\"))\n",
    "final_DF = final_DF.withColumn('Tip',F.col('_11').cast(\"double\"))\n",
    "final_DF = final_DF.withColumn('Additional_Charges',F.col('_12').cast(\"double\"))\n",
    "final_DF = final_DF.withColumn('Trip_Total',F.col('_13').cast(\"double\"))\n",
    "final_DF = final_DF.withColumn('Shared_Trip_Authorized',F.col('_14').cast(\"boolean\"))\n",
    "final_DF = final_DF.withColumn('Trips_Pooled',F.col('_15').cast(\"integer\"))"
   ]
  },
  {
   "cell_type": "code",
   "execution_count": 11,
   "metadata": {},
   "outputs": [],
   "source": [
    "final_DF = final_DF.withColumnRenamed(\"_1\",\"trip_id\") \\\n",
    "                    .withColumnRenamed(\"_2\",\"Trip_Start_Timestamp_str\") \\\n",
    "                    .withColumnRenamed(\"_3\",\"Trip_End_Timestamp_str\") \\\n",
    "                    .withColumnRenamed(\"_4\",\"Trip_Seconds_str\") \\\n",
    "                    .withColumnRenamed(\"_5\",\"Trip_Miles_str\") \\\n",
    "                    .withColumnRenamed(\"_6\",\"Pickup_Census_Tract\") \\\n",
    "                    .withColumnRenamed(\"_7\",\"Dropoff_Census_Tract\") \\\n",
    "                    .withColumnRenamed(\"_8\",\"Pickup_Community_Area_str\") \\\n",
    "                    .withColumnRenamed(\"_9\",\"Dropoff_Community_Area_str\") \\\n",
    "                    .withColumnRenamed(\"_10\",\"Fare_str\") \\\n",
    "                    .withColumnRenamed(\"_11\",\"Tip_str\") \\\n",
    "                    .withColumnRenamed(\"_12\",\"Additional_Charges_str\") \\\n",
    "                    .withColumnRenamed(\"_13\",\"Trip_Total_str\") \\\n",
    "                    .withColumnRenamed(\"_14\",\"Shared_Trip_Authorized_str\") \\\n",
    "                    .withColumnRenamed(\"_15\",\"Trips_Pooled_str\") \\\n",
    "                    .withColumnRenamed(\"_16\",\"Pickup_Centroid_Latitude\") \\\n",
    "                    .withColumnRenamed(\"_17\",\"Pickup_Centroid_Longitude\") \\\n",
    "                    .withColumnRenamed(\"_18\",\"Pickup_Centroid_Location\") \\\n",
    "                    .withColumnRenamed(\"_19\",\"Dropoff_Centroid_Latitude\") \\\n",
    "                    .withColumnRenamed(\"_20\",\"Dropoff_Centroid_Longitude\") \\\n",
    "                    .withColumnRenamed(\"_21\",\"Dropoff_Centroid_Location\")"
   ]
  },
  {
   "cell_type": "code",
   "execution_count": 12,
   "metadata": {},
   "outputs": [
    {
     "name": "stdout",
     "output_type": "stream",
     "text": [
      "root\n",
      " |-- trip_id: string (nullable = true)\n",
      " |-- Trip_Start_Timestamp_str: string (nullable = true)\n",
      " |-- Trip_End_Timestamp_str: string (nullable = true)\n",
      " |-- Trip_Seconds_str: string (nullable = true)\n",
      " |-- Trip_Miles_str: string (nullable = true)\n",
      " |-- Pickup_Census_Tract: string (nullable = true)\n",
      " |-- Dropoff_Census_Tract: string (nullable = true)\n",
      " |-- Pickup_Community_Area_str: string (nullable = true)\n",
      " |-- Dropoff_Community_Area_str: string (nullable = true)\n",
      " |-- Fare_str: string (nullable = true)\n",
      " |-- Tip_str: string (nullable = true)\n",
      " |-- Additional_Charges_str: string (nullable = true)\n",
      " |-- Trip_Total_str: string (nullable = true)\n",
      " |-- Shared_Trip_Authorized_str: string (nullable = true)\n",
      " |-- Trips_Pooled_str: string (nullable = true)\n",
      " |-- Pickup_Centroid_Latitude: string (nullable = true)\n",
      " |-- Pickup_Centroid_Longitude: string (nullable = true)\n",
      " |-- Pickup_Centroid_Location: string (nullable = true)\n",
      " |-- Dropoff_Centroid_Latitude: string (nullable = true)\n",
      " |-- Dropoff_Centroid_Longitude: string (nullable = true)\n",
      " |-- Dropoff_Centroid_Location: string (nullable = true)\n",
      " |-- Trip_Start_Timestamp: timestamp (nullable = true)\n",
      " |-- Trip_End_Timestamp: timestamp (nullable = true)\n",
      " |-- Trip_Seconds: integer (nullable = true)\n",
      " |-- Trip_Miles: double (nullable = true)\n",
      " |-- Pickup_Community_Area: integer (nullable = true)\n",
      " |-- Dropoff_Community_Area: integer (nullable = true)\n",
      " |-- Fare: double (nullable = true)\n",
      " |-- Tip: double (nullable = true)\n",
      " |-- Additional_Charges: double (nullable = true)\n",
      " |-- Trip_Total: double (nullable = true)\n",
      " |-- Shared_Trip_Authorized: boolean (nullable = true)\n",
      " |-- Trips_Pooled: integer (nullable = true)\n",
      "\n"
     ]
    }
   ],
   "source": [
    "final_DF.printSchema()"
   ]
  },
  {
   "cell_type": "code",
   "execution_count": 13,
   "metadata": {},
   "outputs": [
    {
     "data": {
      "text/plain": [
       "DataFrame[trip_id: string, Trip_Start_Timestamp_str: string, Trip_End_Timestamp_str: string, Trip_Seconds_str: string, Trip_Miles_str: string, Pickup_Census_Tract: string, Dropoff_Census_Tract: string, Pickup_Community_Area_str: string, Dropoff_Community_Area_str: string, Fare_str: string, Tip_str: string, Additional_Charges_str: string, Trip_Total_str: string, Shared_Trip_Authorized_str: string, Trips_Pooled_str: string, Pickup_Centroid_Latitude: string, Pickup_Centroid_Longitude: string, Pickup_Centroid_Location: string, Dropoff_Centroid_Latitude: string, Dropoff_Centroid_Longitude: string, Dropoff_Centroid_Location: string, Trip_Start_Timestamp: timestamp, Trip_End_Timestamp: timestamp, Trip_Seconds: int, Trip_Miles: double, Pickup_Community_Area: int, Dropoff_Community_Area: int, Fare: double, Tip: double, Additional_Charges: double, Trip_Total: double, Shared_Trip_Authorized: boolean, Trips_Pooled: int]"
      ]
     },
     "execution_count": 13,
     "metadata": {},
     "output_type": "execute_result"
    }
   ],
   "source": [
    "final_DF.cache()"
   ]
  },
  {
   "cell_type": "markdown",
   "metadata": {},
   "source": [
    "Add in columns with various date and time values from our trip start and end. Arbitarily choose start time to pull year, month, week number, day of week, and date from."
   ]
  },
  {
   "cell_type": "code",
   "execution_count": 14,
   "metadata": {},
   "outputs": [],
   "source": [
    "#https://spark.apache.org/docs/latest/api/python/reference/pyspark.sql.html#data-types\n",
    "final_DF = final_DF.withColumn(\"Trip_Year\", F.year(F.col(\"Trip_Start_Timestamp\"))) \\\n",
    "                    .withColumn(\"Trip_Month\", F.month(F.col(\"Trip_Start_Timestamp\"))) \\\n",
    "                    .withColumn(\"Trip_WeekNumber\", F.weekofyear(F.col(\"Trip_Start_Timestamp\"))) \\\n",
    "                    .withColumn(\"Trip_DayofWeek\", F.dayofweek(F.col(\"Trip_Start_Timestamp\"))) \\\n",
    "                    .withColumn(\"Trip_Start_Hour\", F.hour(F.col(\"Trip_Start_Timestamp\"))) \\\n",
    "                    .withColumn(\"Trip_End_Hour\", F.hour(F.col(\"Trip_End_Timestamp\"))) \\\n",
    "                    .withColumn(\"Date\", F.to_date(F.col(\"Trip_Start_Timestamp\")))"
   ]
  },
  {
   "cell_type": "code",
   "execution_count": 15,
   "metadata": {},
   "outputs": [
    {
     "name": "stdout",
     "output_type": "stream",
     "text": [
      "root\n",
      " |-- trip_id: string (nullable = true)\n",
      " |-- Trip_Start_Timestamp_str: string (nullable = true)\n",
      " |-- Trip_End_Timestamp_str: string (nullable = true)\n",
      " |-- Trip_Seconds_str: string (nullable = true)\n",
      " |-- Trip_Miles_str: string (nullable = true)\n",
      " |-- Pickup_Census_Tract: string (nullable = true)\n",
      " |-- Dropoff_Census_Tract: string (nullable = true)\n",
      " |-- Pickup_Community_Area_str: string (nullable = true)\n",
      " |-- Dropoff_Community_Area_str: string (nullable = true)\n",
      " |-- Fare_str: string (nullable = true)\n",
      " |-- Tip_str: string (nullable = true)\n",
      " |-- Additional_Charges_str: string (nullable = true)\n",
      " |-- Trip_Total_str: string (nullable = true)\n",
      " |-- Shared_Trip_Authorized_str: string (nullable = true)\n",
      " |-- Trips_Pooled_str: string (nullable = true)\n",
      " |-- Pickup_Centroid_Latitude: string (nullable = true)\n",
      " |-- Pickup_Centroid_Longitude: string (nullable = true)\n",
      " |-- Pickup_Centroid_Location: string (nullable = true)\n",
      " |-- Dropoff_Centroid_Latitude: string (nullable = true)\n",
      " |-- Dropoff_Centroid_Longitude: string (nullable = true)\n",
      " |-- Dropoff_Centroid_Location: string (nullable = true)\n",
      " |-- Trip_Start_Timestamp: timestamp (nullable = true)\n",
      " |-- Trip_End_Timestamp: timestamp (nullable = true)\n",
      " |-- Trip_Seconds: integer (nullable = true)\n",
      " |-- Trip_Miles: double (nullable = true)\n",
      " |-- Pickup_Community_Area: integer (nullable = true)\n",
      " |-- Dropoff_Community_Area: integer (nullable = true)\n",
      " |-- Fare: double (nullable = true)\n",
      " |-- Tip: double (nullable = true)\n",
      " |-- Additional_Charges: double (nullable = true)\n",
      " |-- Trip_Total: double (nullable = true)\n",
      " |-- Shared_Trip_Authorized: boolean (nullable = true)\n",
      " |-- Trips_Pooled: integer (nullable = true)\n",
      " |-- Trip_Year: integer (nullable = true)\n",
      " |-- Trip_Month: integer (nullable = true)\n",
      " |-- Trip_WeekNumber: integer (nullable = true)\n",
      " |-- Trip_DayofWeek: integer (nullable = true)\n",
      " |-- Trip_Start_Hour: integer (nullable = true)\n",
      " |-- Trip_End_Hour: integer (nullable = true)\n",
      " |-- Date: date (nullable = true)\n",
      "\n"
     ]
    }
   ],
   "source": [
    "final_DF.printSchema()"
   ]
  },
  {
   "cell_type": "code",
   "execution_count": 16,
   "metadata": {},
   "outputs": [
    {
     "name": "stdout",
     "output_type": "stream",
     "text": [
      "+--------------------+------------------------+----------------------+----------------+--------------+-------------------+--------------------+-------------------------+--------------------------+--------+-------+----------------------+--------------+--------------------------+----------------+------------------------+-------------------------+------------------------+-------------------------+--------------------------+-------------------------+--------------------+-------------------+------------+----------+---------------------+----------------------+----+---+------------------+----------+----------------------+------------+---------+----------+---------------+--------------+---------------+-------------+----------+\n",
      "|             trip_id|Trip_Start_Timestamp_str|Trip_End_Timestamp_str|Trip_Seconds_str|Trip_Miles_str|Pickup_Census_Tract|Dropoff_Census_Tract|Pickup_Community_Area_str|Dropoff_Community_Area_str|Fare_str|Tip_str|Additional_Charges_str|Trip_Total_str|Shared_Trip_Authorized_str|Trips_Pooled_str|Pickup_Centroid_Latitude|Pickup_Centroid_Longitude|Pickup_Centroid_Location|Dropoff_Centroid_Latitude|Dropoff_Centroid_Longitude|Dropoff_Centroid_Location|Trip_Start_Timestamp| Trip_End_Timestamp|Trip_Seconds|Trip_Miles|Pickup_Community_Area|Dropoff_Community_Area|Fare|Tip|Additional_Charges|Trip_Total|Shared_Trip_Authorized|Trips_Pooled|Trip_Year|Trip_Month|Trip_WeekNumber|Trip_DayofWeek|Trip_Start_Hour|Trip_End_Hour|      Date|\n",
      "+--------------------+------------------------+----------------------+----------------+--------------+-------------------+--------------------+-------------------------+--------------------------+--------+-------+----------------------+--------------+--------------------------+----------------+------------------------+-------------------------+------------------------+-------------------------+--------------------------+-------------------------+--------------------+-------------------+------------+----------+---------------------+----------------------+----+---+------------------+----------+----------------------+------------+---------+----------+---------------+--------------+---------------+-------------+----------+\n",
      "|223544ca91e6673d8...|    12/01/2019 12:15:...|  12/01/2019 12:30:...|             439|           1.8|        17031833000|         17031320400|                       28|                        32|       5|      0|                  2.55|          7.55|                     false|               1|           41.8852813201|           -87.6572331997|    POINT (-87.657233...|            41.8774061234|            -87.6219716519|     POINT (-87.621971...| 2019-12-01 00:15:00|2019-12-01 00:30:00|         439|       1.8|                   28|                    32| 5.0|0.0|              2.55|      7.55|                 false|           1|     2019|        12|             48|             1|              0|            0|2019-12-01|\n",
      "|48a964334659ab16c...|    12/01/2019 12:15:...|  12/01/2019 12:15:...|             315|           1.4|        17031190402|         17031190800|                       19|                        19|       5|      0|                  2.55|          7.55|                     false|               1|           41.9348600057|           -87.7712319246|    POINT (-87.771231...|             41.927819073|            -87.7513626916|     POINT (-87.751362...| 2019-12-01 00:15:00|2019-12-01 00:15:00|         315|       1.4|                   19|                    19| 5.0|0.0|              2.55|      7.55|                 false|           1|     2019|        12|             48|             1|              0|            0|2019-12-01|\n",
      "|0c121b5cfcd93656c...|    12/01/2019 12:15:...|  12/01/2019 12:30:...|            1188|           7.9|                   |         17031540101|                         |                        54|      20|      0|                   4.1|          24.1|                     false|               1|                        |                         |                        |            41.6502216756|            -87.5994629948|     POINT (-87.599462...| 2019-12-01 00:15:00|2019-12-01 00:30:00|        1188|       7.9|                 null|                    54|20.0|0.0|               4.1|      24.1|                 false|           1|     2019|        12|             48|             1|              0|            0|2019-12-01|\n",
      "|14688b5167386b9ff...|    12/01/2019 12:15:...|  12/01/2019 12:30:...|            1020|           8.0|                   |                    |                       72|                        48|    12.5|      0|                  2.55|         15.05|                     false|               1|            41.713148612|           -87.6750753124|    POINT (-87.675075...|            41.7296764229|            -87.5727171342|     POINT (-87.572717...| 2019-12-01 00:15:00|2019-12-01 00:30:00|        1020|       8.0|                   72|                    48|12.5|0.0|              2.55|     15.05|                 false|           1|     2019|        12|             48|             1|              0|            0|2019-12-01|\n",
      "|1ba18533f29744063...|    12/01/2019 12:15:...|  12/01/2019 12:30:...|             286|           0.6|        17031320100|         17031081700|                       32|                         8|     2.5|      0|                  2.55|          5.05|                     false|               1|           41.8849871918|           -87.6209929134|    POINT (-87.620992...|            41.8920421365|            -87.6318639497|     POINT (-87.631863...| 2019-12-01 00:15:00|2019-12-01 00:30:00|         286|       0.6|                   32|                     8| 2.5|0.0|              2.55|      5.05|                 false|           1|     2019|        12|             48|             1|              0|            0|2019-12-01|\n",
      "+--------------------+------------------------+----------------------+----------------+--------------+-------------------+--------------------+-------------------------+--------------------------+--------+-------+----------------------+--------------+--------------------------+----------------+------------------------+-------------------------+------------------------+-------------------------+--------------------------+-------------------------+--------------------+-------------------+------------+----------+---------------------+----------------------+----+---+------------------+----------+----------------------+------------+---------+----------+---------------+--------------+---------------+-------------+----------+\n",
      "only showing top 5 rows\n",
      "\n"
     ]
    }
   ],
   "source": [
    "final_DF.show(5)"
   ]
  },
  {
   "cell_type": "markdown",
   "metadata": {},
   "source": [
    "For the first few hundred thousand records, the date will be the same. Distinct dates in our data can be checked here."
   ]
  },
  {
   "cell_type": "code",
   "execution_count": 17,
   "metadata": {},
   "outputs": [
    {
     "name": "stdout",
     "output_type": "stream",
     "text": [
      "+----------+\n",
      "|Date      |\n",
      "+----------+\n",
      "|2019-12-01|\n",
      "+----------+\n",
      "\n"
     ]
    }
   ],
   "source": [
    "final_DF.select(\"Date\").distinct().show(truncate=False)"
   ]
  },
  {
   "cell_type": "markdown",
   "metadata": {},
   "source": [
    "Can you create the same dataset without a trip through RDD land?"
   ]
  },
  {
   "cell_type": "code",
   "execution_count": 38,
   "metadata": {},
   "outputs": [
    {
     "name": "stdout",
     "output_type": "stream",
     "text": [
      "+--------------------+--------------------+--------------------+------------+----------+-------------------+--------------------+---------------------+----------------------+----+---+------------------+----------+----------------------+------------+------------------------+-------------------------+------------------------+-------------------------+--------------------------+-------------------------+\n",
      "|             Trip_ID|Trip_Start_Timestamp|  Trip_End_Timestamp|Trip_Seconds|Trip_Miles|Pickup_Census_Tract|Dropoff_Census_Tract|Pickup_Community_Area|Dropoff_Community_Area|Fare|Tip|Additional_Charges|Trip_Total|Shared_Trip_Authorized|Trips_Pooled|Pickup_Centroid_Latitude|Pickup_Centroid_Longitude|Pickup_Centroid_Location|Dropoff_Centroid_Latitude|Dropoff_Centroid_Longitude|Dropoff_Centroid_Location|\n",
      "+--------------------+--------------------+--------------------+------------+----------+-------------------+--------------------+---------------------+----------------------+----+---+------------------+----------+----------------------+------------+------------------------+-------------------------+------------------------+-------------------------+--------------------------+-------------------------+\n",
      "|bea79abbef050980e...|12/01/2019 12:15:...|12/01/2019 01:00:...|      2675.0|      32.5|        17031980000|                null|                 76.0|                  null|70.0|0.0|              9.06|     79.06|                 false|         1.0|           41.9790708201|           -87.9030396611|    POINT (-87.903039...|                     null|                      null|                     null|\n",
      "|00f26da5601bbcf98...|12/01/2019 12:15:...|12/01/2019 12:15:...|       550.0|       2.8|        17031242100|         17031081700|                 24.0|                   8.0| 7.5|0.0|              2.55|     10.05|                 false|         1.0|           41.8996701799|           -87.6698377982|    POINT (-87.669837...|            41.8920421365|            -87.6318639497|     POINT (-87.631863...|\n",
      "|02256ef89c5c4be82...|12/01/2019 12:15:...|12/01/2019 12:30:...|       922.0|       2.8|        17031080300|         17031281900|                  8.0|                  28.0|10.0|0.0|              3.11|     13.11|                 false|         1.0|           41.9074919303|           -87.6357600901|    POINT (-87.635760...|            41.8792550844|             -87.642648998|     POINT (-87.642648...|\n",
      "|072cb06b1a88042c4...|12/01/2019 12:15:...|12/01/2019 12:30:...|      1475.0|      12.5|        17031310600|         17031063302|                 31.0|                   6.0|17.5|4.0|              2.55|     24.05|                 false|         1.0|           41.8563332167|           -87.6595642391|    POINT (-87.659564...|            41.9347624564|            -87.6398538587|     POINT (-87.639853...|\n",
      "|099257be99c66c8b2...|12/01/2019 12:15:...|12/01/2019 12:30:...|       594.0|       2.5|        17031310600|         17031330100|                 31.0|                  33.0| 7.5|0.0|              2.55|     10.05|                 false|         1.0|           41.8563332167|           -87.6595642391|    POINT (-87.659564...|             41.859349715|            -87.6173580061|     POINT (-87.617358...|\n",
      "+--------------------+--------------------+--------------------+------------+----------+-------------------+--------------------+---------------------+----------------------+----+---+------------------+----------+----------------------+------------+------------------------+-------------------------+------------------------+-------------------------+--------------------------+-------------------------+\n",
      "only showing top 5 rows\n",
      "\n"
     ]
    }
   ],
   "source": [
    "# create a custom schema.  \n",
    "\n",
    "customSchema = StructType([\n",
    "    StructField('Trip_ID', StringType(), True),        \n",
    "    StructField('Trip_Start_Timestamp', StringType(), True),\n",
    "    StructField('Trip_End_Timestamp', StringType(), True),\n",
    "    StructField('Trip_Seconds', DoubleType(), True),\n",
    "    StructField('Trip_Miles', DoubleType(), True),\n",
    "    StructField('Pickup_Census_Tract', StringType(), True),\n",
    "    StructField('Dropoff_Census_Tract', StringType(), True),\n",
    "    StructField('Pickup_Community_Area', DoubleType(), True),\n",
    "    StructField('Dropoff_Community_Area', DoubleType(), True),\n",
    "    StructField(\"Fare\", DoubleType(), True),\n",
    "    StructField(\"Tip\", DoubleType(), True),\n",
    "    StructField(\"Additional_Charges\", DoubleType(), True),\n",
    "    StructField(\"Trip_Total\", StringType(), True),\n",
    "    StructField(\"Shared_Trip_Authorized\", BooleanType(), True),\n",
    "    StructField(\"Trips_Pooled\", DoubleType(), True),\n",
    "    StructField('Pickup_Centroid_Latitude', StringType(), True),\n",
    "    StructField('Pickup_Centroid_Longitude', StringType(), True),\n",
    "    StructField('Pickup_Centroid_Location', StringType(), True),\n",
    "    StructField('Dropoff_Centroid_Latitude', StringType(), True),\n",
    "    StructField('Dropoff_Centroid_Longitude', StringType(), True),\n",
    "    StructField('Dropoff_Centroid_Location', StringType(), True)])\n",
    "\n",
    "#read in the data to a dataframe\n",
    "ed_df = spark.read.csv('/../../project/ds5559/Alice_Ed_Michael_Sam_project/BigTrips.csv', header = True, schema=customSchema)\n",
    "ed_df.show(5)"
   ]
  },
  {
   "cell_type": "code",
   "execution_count": 39,
   "metadata": {},
   "outputs": [
    {
     "name": "stdout",
     "output_type": "stream",
     "text": [
      "root\n",
      " |-- Trip_ID: string (nullable = true)\n",
      " |-- Trip_Start_Timestamp: string (nullable = true)\n",
      " |-- Trip_End_Timestamp: string (nullable = true)\n",
      " |-- Trip_Seconds: double (nullable = true)\n",
      " |-- Trip_Miles: double (nullable = true)\n",
      " |-- Pickup_Census_Tract: string (nullable = true)\n",
      " |-- Dropoff_Census_Tract: string (nullable = true)\n",
      " |-- Pickup_Community_Area: double (nullable = true)\n",
      " |-- Dropoff_Community_Area: double (nullable = true)\n",
      " |-- Fare: double (nullable = true)\n",
      " |-- Tip: double (nullable = true)\n",
      " |-- Additional_Charges: double (nullable = true)\n",
      " |-- Trip_Total: string (nullable = true)\n",
      " |-- Shared_Trip_Authorized: boolean (nullable = true)\n",
      " |-- Trips_Pooled: double (nullable = true)\n",
      " |-- Pickup_Centroid_Latitude: string (nullable = true)\n",
      " |-- Pickup_Centroid_Longitude: string (nullable = true)\n",
      " |-- Pickup_Centroid_Location: string (nullable = true)\n",
      " |-- Dropoff_Centroid_Latitude: string (nullable = true)\n",
      " |-- Dropoff_Centroid_Longitude: string (nullable = true)\n",
      " |-- Dropoff_Centroid_Location: string (nullable = true)\n",
      "\n"
     ]
    }
   ],
   "source": [
    "ed_df.printSchema()"
   ]
  },
  {
   "cell_type": "code",
   "execution_count": 40,
   "metadata": {},
   "outputs": [],
   "source": [
    "#fill our NA community areas\n",
    "\n",
    "ed_df = ed_df.na.fill(value=78,subset=['Pickup_Community_Area', 'Dropoff_Community_Area'])"
   ]
  },
  {
   "cell_type": "code",
   "execution_count": 41,
   "metadata": {},
   "outputs": [],
   "source": [
    "# make a binary tip/no tip indicator\n",
    "# https://spark.apache.org/docs/2.2.0/ml-features.html#binarizer\n",
    "\n",
    "#binarized tip seems to be causing problems.  Change its name to label as that is that the packages are expecting\n",
    "\n",
    "binarizer = Binarizer(threshold=0, inputCol=\"Tip\", outputCol=\"label\")\n",
    "ed_df = binarizer.transform(ed_df)"
   ]
  },
  {
   "cell_type": "code",
   "execution_count": 42,
   "metadata": {},
   "outputs": [
    {
     "name": "stdout",
     "output_type": "stream",
     "text": [
      "root\n",
      " |-- Trip_ID: string (nullable = true)\n",
      " |-- Trip_Start_Timestamp: string (nullable = true)\n",
      " |-- Trip_End_Timestamp: string (nullable = true)\n",
      " |-- Trip_Seconds: double (nullable = true)\n",
      " |-- Trip_Miles: double (nullable = true)\n",
      " |-- Pickup_Census_Tract: string (nullable = true)\n",
      " |-- Dropoff_Census_Tract: string (nullable = true)\n",
      " |-- Pickup_Community_Area: double (nullable = false)\n",
      " |-- Dropoff_Community_Area: double (nullable = false)\n",
      " |-- Fare: double (nullable = true)\n",
      " |-- Tip: double (nullable = true)\n",
      " |-- Additional_Charges: double (nullable = true)\n",
      " |-- Trip_Total: string (nullable = true)\n",
      " |-- Shared_Trip_Authorized: boolean (nullable = true)\n",
      " |-- Trips_Pooled: double (nullable = true)\n",
      " |-- Pickup_Centroid_Latitude: string (nullable = true)\n",
      " |-- Pickup_Centroid_Longitude: string (nullable = true)\n",
      " |-- Pickup_Centroid_Location: string (nullable = true)\n",
      " |-- Dropoff_Centroid_Latitude: string (nullable = true)\n",
      " |-- Dropoff_Centroid_Longitude: string (nullable = true)\n",
      " |-- Dropoff_Centroid_Location: string (nullable = true)\n",
      " |-- label: double (nullable = true)\n",
      "\n"
     ]
    }
   ],
   "source": [
    "ed_df.printSchema()"
   ]
  },
  {
   "cell_type": "code",
   "execution_count": 43,
   "metadata": {},
   "outputs": [],
   "source": [
    "ed_df = ed_df.withColumn(\"Trip_Start_TS\", F.to_timestamp(F.col(\"Trip_Start_Timestamp\"), \"MM/dd/yyyy hh:mm:ss a\"))"
   ]
  },
  {
   "cell_type": "code",
   "execution_count": 44,
   "metadata": {},
   "outputs": [],
   "source": [
    "ed_df = ed_df.withColumn(\"Trip_End_TS\", F.to_timestamp(F.col(\"Trip_End_Timestamp\"), \"MM/dd/yyyy hh:mm:ss a\"))"
   ]
  },
  {
   "cell_type": "code",
   "execution_count": 45,
   "metadata": {},
   "outputs": [
    {
     "name": "stdout",
     "output_type": "stream",
     "text": [
      "root\n",
      " |-- Trip_ID: string (nullable = true)\n",
      " |-- Trip_Start_Timestamp: string (nullable = true)\n",
      " |-- Trip_End_Timestamp: string (nullable = true)\n",
      " |-- Trip_Seconds: double (nullable = true)\n",
      " |-- Trip_Miles: double (nullable = true)\n",
      " |-- Pickup_Census_Tract: string (nullable = true)\n",
      " |-- Dropoff_Census_Tract: string (nullable = true)\n",
      " |-- Pickup_Community_Area: double (nullable = false)\n",
      " |-- Dropoff_Community_Area: double (nullable = false)\n",
      " |-- Fare: double (nullable = true)\n",
      " |-- Tip: double (nullable = true)\n",
      " |-- Additional_Charges: double (nullable = true)\n",
      " |-- Trip_Total: string (nullable = true)\n",
      " |-- Shared_Trip_Authorized: boolean (nullable = true)\n",
      " |-- Trips_Pooled: double (nullable = true)\n",
      " |-- Pickup_Centroid_Latitude: string (nullable = true)\n",
      " |-- Pickup_Centroid_Longitude: string (nullable = true)\n",
      " |-- Pickup_Centroid_Location: string (nullable = true)\n",
      " |-- Dropoff_Centroid_Latitude: string (nullable = true)\n",
      " |-- Dropoff_Centroid_Longitude: string (nullable = true)\n",
      " |-- Dropoff_Centroid_Location: string (nullable = true)\n",
      " |-- label: double (nullable = true)\n",
      " |-- Trip_Start_TS: timestamp (nullable = true)\n",
      " |-- Trip_End_TS: timestamp (nullable = true)\n",
      "\n"
     ]
    }
   ],
   "source": [
    "ed_df.printSchema()"
   ]
  },
  {
   "cell_type": "code",
   "execution_count": 46,
   "metadata": {},
   "outputs": [
    {
     "name": "stdout",
     "output_type": "stream",
     "text": [
      "+----------------------------------------+----------------------+----------------------+------------+----------+-------------------+--------------------+---------------------+----------------------+----+---+------------------+----------+----------------------+------------+------------------------+-------------------------+------------------------------------+-------------------------+--------------------------+------------------------------------+-----+-------------------+-------------------+---------+----------+---------------+--------------+---------------+-----------------+----------+\n",
      "|Trip_ID                                 |Trip_Start_Timestamp  |Trip_End_Timestamp    |Trip_Seconds|Trip_Miles|Pickup_Census_Tract|Dropoff_Census_Tract|Pickup_Community_Area|Dropoff_Community_Area|Fare|Tip|Additional_Charges|Trip_Total|Shared_Trip_Authorized|Trips_Pooled|Pickup_Centroid_Latitude|Pickup_Centroid_Longitude|Pickup_Centroid_Location            |Dropoff_Centroid_Latitude|Dropoff_Centroid_Longitude|Dropoff_Centroid_Location           |label|Trip_Start_TS      |Trip_End_TS        |Trip_Year|Trip_Month|Trip_WeekNumber|Trip_DayofWeek|Trip_Start_Hour|Trip_Start_Minute|Date      |\n",
      "+----------------------------------------+----------------------+----------------------+------------+----------+-------------------+--------------------+---------------------+----------------------+----+---+------------------+----------+----------------------+------------+------------------------+-------------------------+------------------------------------+-------------------------+--------------------------+------------------------------------+-----+-------------------+-------------------+---------+----------+---------------+--------------+---------------+-----------------+----------+\n",
      "|bea79abbef050980e3357b3f5849bdeb2bca4a63|12/01/2019 12:15:00 AM|12/01/2019 01:00:00 AM|2675.0      |32.5      |17031980000        |null                |76.0                 |78.0                  |70.0|0.0|9.06              |79.06     |false                 |1.0         |41.9790708201           |-87.9030396611           |POINT (-87.9030396611 41.9790708201)|null                     |null                      |null                                |0.0  |2019-12-01 00:15:00|2019-12-01 01:00:00|2019     |12        |48             |1             |0              |15               |2019-12-01|\n",
      "|00f26da5601bbcf9837f78cdbe04b7317203db9d|12/01/2019 12:15:00 AM|12/01/2019 12:15:00 AM|550.0       |2.8       |17031242100        |17031081700         |24.0                 |8.0                   |7.5 |0.0|2.55              |10.05     |false                 |1.0         |41.8996701799           |-87.6698377982           |POINT (-87.6698377982 41.8996701799)|41.8920421365            |-87.6318639497            |POINT (-87.6318639497 41.8920421365)|0.0  |2019-12-01 00:15:00|2019-12-01 00:15:00|2019     |12        |48             |1             |0              |15               |2019-12-01|\n",
      "|02256ef89c5c4be822783a241bcb55d7cee17fff|12/01/2019 12:15:00 AM|12/01/2019 12:30:00 AM|922.0       |2.8       |17031080300        |17031281900         |8.0                  |28.0                  |10.0|0.0|3.11              |13.11     |false                 |1.0         |41.9074919303           |-87.6357600901           |POINT (-87.6357600901 41.9074919303)|41.8792550844            |-87.642648998             |POINT (-87.642648998 41.8792550844) |0.0  |2019-12-01 00:15:00|2019-12-01 00:30:00|2019     |12        |48             |1             |0              |15               |2019-12-01|\n",
      "|072cb06b1a88042c4c61cf6ba5e5f6416f491ce9|12/01/2019 12:15:00 AM|12/01/2019 12:30:00 AM|1475.0      |12.5      |17031310600        |17031063302         |31.0                 |6.0                   |17.5|4.0|2.55              |24.05     |false                 |1.0         |41.8563332167           |-87.6595642391           |POINT (-87.6595642391 41.8563332167)|41.9347624564            |-87.6398538587            |POINT (-87.6398538587 41.9347624564)|1.0  |2019-12-01 00:15:00|2019-12-01 00:30:00|2019     |12        |48             |1             |0              |15               |2019-12-01|\n",
      "|099257be99c66c8b2b48fcb49f2c42296709c157|12/01/2019 12:15:00 AM|12/01/2019 12:30:00 AM|594.0       |2.5       |17031310600        |17031330100         |31.0                 |33.0                  |7.5 |0.0|2.55              |10.05     |false                 |1.0         |41.8563332167           |-87.6595642391           |POINT (-87.6595642391 41.8563332167)|41.859349715             |-87.6173580061            |POINT (-87.6173580061 41.859349715) |0.0  |2019-12-01 00:15:00|2019-12-01 00:30:00|2019     |12        |48             |1             |0              |15               |2019-12-01|\n",
      "+----------------------------------------+----------------------+----------------------+------------+----------+-------------------+--------------------+---------------------+----------------------+----+---+------------------+----------+----------------------+------------+------------------------+-------------------------+------------------------------------+-------------------------+--------------------------+------------------------------------+-----+-------------------+-------------------+---------+----------+---------------+--------------+---------------+-----------------+----------+\n",
      "only showing top 5 rows\n",
      "\n"
     ]
    }
   ],
   "source": [
    "ed_df = ed_df.withColumn('Trip_Year',F.year(F.to_timestamp('Trip_Start_TS'))) \\\n",
    "         .withColumn('Trip_Month',F.month(F.to_timestamp('Trip_Start_TS'))) \\\n",
    "         .withColumn('Trip_WeekNumber',F.weekofyear(F.to_timestamp('Trip_Start_TS'))) \\\n",
    "         .withColumn('Trip_DayofWeek', F.dayofweek(F.col('Trip_Start_TS'))) \\\n",
    "         .withColumn('Trip_Start_Hour', F.hour(F.col('Trip_Start_TS'))) \\\n",
    "         .withColumn('Trip_Start_Minute', F.minute(F.col('Trip_Start_TS'))) \\\n",
    "         .withColumn('Date', F.to_date(F.col('Trip_Start_TS')))\n",
    "         \n",
    "ed_df.show(5, False)"
   ]
  },
  {
   "cell_type": "code",
   "execution_count": 47,
   "metadata": {},
   "outputs": [
    {
     "name": "stdout",
     "output_type": "stream",
     "text": [
      "+----------------------------------------+----------------------+----------------------+------------+----------+-------------------+--------------------+---------------------+----------------------+----+---+------------------+----------+----------------------+------------+------------------------+-------------------------+------------------------------------+-------------------------+--------------------------+------------------------------------+-----+-------------------+-------------------+---------+----------+---------------+--------------+---------------+-----------------+----------+-------------+---------------+\n",
      "|Trip_ID                                 |Trip_Start_Timestamp  |Trip_End_Timestamp    |Trip_Seconds|Trip_Miles|Pickup_Census_Tract|Dropoff_Census_Tract|Pickup_Community_Area|Dropoff_Community_Area|Fare|Tip|Additional_Charges|Trip_Total|Shared_Trip_Authorized|Trips_Pooled|Pickup_Centroid_Latitude|Pickup_Centroid_Longitude|Pickup_Centroid_Location            |Dropoff_Centroid_Latitude|Dropoff_Centroid_Longitude|Dropoff_Centroid_Location           |label|Trip_Start_TS      |Trip_End_TS        |Trip_Year|Trip_Month|Trip_WeekNumber|Trip_DayofWeek|Trip_Start_Hour|Trip_Start_Minute|Date      |Trip_End_Hour|Trip_End_Minute|\n",
      "+----------------------------------------+----------------------+----------------------+------------+----------+-------------------+--------------------+---------------------+----------------------+----+---+------------------+----------+----------------------+------------+------------------------+-------------------------+------------------------------------+-------------------------+--------------------------+------------------------------------+-----+-------------------+-------------------+---------+----------+---------------+--------------+---------------+-----------------+----------+-------------+---------------+\n",
      "|bea79abbef050980e3357b3f5849bdeb2bca4a63|12/01/2019 12:15:00 AM|12/01/2019 01:00:00 AM|2675.0      |32.5      |17031980000        |null                |76.0                 |78.0                  |70.0|0.0|9.06              |79.06     |false                 |1.0         |41.9790708201           |-87.9030396611           |POINT (-87.9030396611 41.9790708201)|null                     |null                      |null                                |0.0  |2019-12-01 00:15:00|2019-12-01 01:00:00|2019     |12        |48             |1             |0              |15               |2019-12-01|1            |0              |\n",
      "|00f26da5601bbcf9837f78cdbe04b7317203db9d|12/01/2019 12:15:00 AM|12/01/2019 12:15:00 AM|550.0       |2.8       |17031242100        |17031081700         |24.0                 |8.0                   |7.5 |0.0|2.55              |10.05     |false                 |1.0         |41.8996701799           |-87.6698377982           |POINT (-87.6698377982 41.8996701799)|41.8920421365            |-87.6318639497            |POINT (-87.6318639497 41.8920421365)|0.0  |2019-12-01 00:15:00|2019-12-01 00:15:00|2019     |12        |48             |1             |0              |15               |2019-12-01|0            |15             |\n",
      "|02256ef89c5c4be822783a241bcb55d7cee17fff|12/01/2019 12:15:00 AM|12/01/2019 12:30:00 AM|922.0       |2.8       |17031080300        |17031281900         |8.0                  |28.0                  |10.0|0.0|3.11              |13.11     |false                 |1.0         |41.9074919303           |-87.6357600901           |POINT (-87.6357600901 41.9074919303)|41.8792550844            |-87.642648998             |POINT (-87.642648998 41.8792550844) |0.0  |2019-12-01 00:15:00|2019-12-01 00:30:00|2019     |12        |48             |1             |0              |15               |2019-12-01|0            |30             |\n",
      "|072cb06b1a88042c4c61cf6ba5e5f6416f491ce9|12/01/2019 12:15:00 AM|12/01/2019 12:30:00 AM|1475.0      |12.5      |17031310600        |17031063302         |31.0                 |6.0                   |17.5|4.0|2.55              |24.05     |false                 |1.0         |41.8563332167           |-87.6595642391           |POINT (-87.6595642391 41.8563332167)|41.9347624564            |-87.6398538587            |POINT (-87.6398538587 41.9347624564)|1.0  |2019-12-01 00:15:00|2019-12-01 00:30:00|2019     |12        |48             |1             |0              |15               |2019-12-01|0            |30             |\n",
      "|099257be99c66c8b2b48fcb49f2c42296709c157|12/01/2019 12:15:00 AM|12/01/2019 12:30:00 AM|594.0       |2.5       |17031310600        |17031330100         |31.0                 |33.0                  |7.5 |0.0|2.55              |10.05     |false                 |1.0         |41.8563332167           |-87.6595642391           |POINT (-87.6595642391 41.8563332167)|41.859349715             |-87.6173580061            |POINT (-87.6173580061 41.859349715) |0.0  |2019-12-01 00:15:00|2019-12-01 00:30:00|2019     |12        |48             |1             |0              |15               |2019-12-01|0            |30             |\n",
      "+----------------------------------------+----------------------+----------------------+------------+----------+-------------------+--------------------+---------------------+----------------------+----+---+------------------+----------+----------------------+------------+------------------------+-------------------------+------------------------------------+-------------------------+--------------------------+------------------------------------+-----+-------------------+-------------------+---------+----------+---------------+--------------+---------------+-----------------+----------+-------------+---------------+\n",
      "only showing top 5 rows\n",
      "\n"
     ]
    }
   ],
   "source": [
    "ed_df = ed_df.withColumn('Trip_End_Hour', F.hour(F.col('Trip_End_TS'))) \\\n",
    "         .withColumn('Trip_End_Minute', F.minute(F.col('Trip_End_TS'))) \n",
    "         \n",
    "ed_df.show(5, False)"
   ]
  },
  {
   "cell_type": "code",
   "execution_count": 48,
   "metadata": {},
   "outputs": [
    {
     "name": "stdout",
     "output_type": "stream",
     "text": [
      "root\n",
      " |-- Trip_ID: string (nullable = true)\n",
      " |-- Trip_Start_Timestamp: string (nullable = true)\n",
      " |-- Trip_End_Timestamp: string (nullable = true)\n",
      " |-- Trip_Seconds: double (nullable = true)\n",
      " |-- Trip_Miles: double (nullable = true)\n",
      " |-- Pickup_Census_Tract: string (nullable = true)\n",
      " |-- Dropoff_Census_Tract: string (nullable = true)\n",
      " |-- Pickup_Community_Area: double (nullable = false)\n",
      " |-- Dropoff_Community_Area: double (nullable = false)\n",
      " |-- Fare: double (nullable = true)\n",
      " |-- Tip: double (nullable = true)\n",
      " |-- Additional_Charges: double (nullable = true)\n",
      " |-- Trip_Total: string (nullable = true)\n",
      " |-- Shared_Trip_Authorized: boolean (nullable = true)\n",
      " |-- Trips_Pooled: double (nullable = true)\n",
      " |-- Pickup_Centroid_Latitude: string (nullable = true)\n",
      " |-- Pickup_Centroid_Longitude: string (nullable = true)\n",
      " |-- Pickup_Centroid_Location: string (nullable = true)\n",
      " |-- Dropoff_Centroid_Latitude: string (nullable = true)\n",
      " |-- Dropoff_Centroid_Longitude: string (nullable = true)\n",
      " |-- Dropoff_Centroid_Location: string (nullable = true)\n",
      " |-- label: double (nullable = true)\n",
      " |-- Trip_Start_TS: timestamp (nullable = true)\n",
      " |-- Trip_End_TS: timestamp (nullable = true)\n",
      " |-- Trip_Year: integer (nullable = true)\n",
      " |-- Trip_Month: integer (nullable = true)\n",
      " |-- Trip_WeekNumber: integer (nullable = true)\n",
      " |-- Trip_DayofWeek: integer (nullable = true)\n",
      " |-- Trip_Start_Hour: integer (nullable = true)\n",
      " |-- Trip_Start_Minute: integer (nullable = true)\n",
      " |-- Date: date (nullable = true)\n",
      " |-- Trip_End_Hour: integer (nullable = true)\n",
      " |-- Trip_End_Minute: integer (nullable = true)\n",
      "\n"
     ]
    }
   ],
   "source": [
    "ed_df.printSchema()"
   ]
  },
  {
   "cell_type": "markdown",
   "metadata": {},
   "source": [
    "Pull in Uber and Lyft stock price information. One record per day. Rename fields with their company as prefixes so names will be unique in final dataframe."
   ]
  },
  {
   "cell_type": "code",
   "execution_count": 15,
   "metadata": {},
   "outputs": [],
   "source": [
    "#pulled from Yahoo Finance\n",
    "UBER_stock = sqlContext.read.csv(\"UBER_stock.csv\",header=True,inferSchema=True)\n",
    "LYFT_stock = sqlContext.read.csv(\"LYFT_stock.csv\",header=True,inferSchema=True)"
   ]
  },
  {
   "cell_type": "code",
   "execution_count": 16,
   "metadata": {},
   "outputs": [],
   "source": [
    "UBER_stock = UBER_stock.toDF(*[\"UBER_\" + x if x != \"Date\" else x for x in UBER_stock.columns])\n",
    "LYFT_stock = LYFT_stock.toDF(*[\"LYFT_\" + x if x != \"Date\" else x for x in LYFT_stock.columns])"
   ]
  },
  {
   "cell_type": "code",
   "execution_count": 49,
   "metadata": {},
   "outputs": [
    {
     "name": "stdout",
     "output_type": "stream",
     "text": [
      "+----------+---------+---------+---------+----------+--------------+-----------+\n",
      "|      Date|UBER_Open|UBER_High| UBER_Low|UBER_Close|UBER_Adj Close|UBER_Volume|\n",
      "+----------+---------+---------+---------+----------+--------------+-----------+\n",
      "|2019-05-10|     42.0|     45.0|41.060001|     41.57|         41.57|  186322500|\n",
      "|2019-05-13|38.790001|39.240002|36.080002| 37.099998|     37.099998|   79442400|\n",
      "|2019-05-14|38.310001|39.959999|36.849998| 39.959999|     39.959999|   46661100|\n",
      "|2019-05-15|39.369999|41.880001|38.950001| 41.290001|     41.290001|   36086100|\n",
      "|2019-05-16|    41.48|44.060001|    41.25|      43.0|          43.0|   38115500|\n",
      "+----------+---------+---------+---------+----------+--------------+-----------+\n",
      "only showing top 5 rows\n",
      "\n"
     ]
    }
   ],
   "source": [
    "UBER_stock.show(5)"
   ]
  },
  {
   "cell_type": "code",
   "execution_count": 50,
   "metadata": {},
   "outputs": [
    {
     "name": "stdout",
     "output_type": "stream",
     "text": [
      "+----------+---------+---------+---------+----------+--------------+-----------+\n",
      "|      Date|LYFT_Open|LYFT_High| LYFT_Low|LYFT_Close|LYFT_Adj Close|LYFT_Volume|\n",
      "+----------+---------+---------+---------+----------+--------------+-----------+\n",
      "|2019-03-29|87.330002|88.599998|78.019997| 78.290001|     78.290001|   71485200|\n",
      "|2019-04-01|74.900002|     75.0|67.779999| 69.010002|     69.010002|   41799300|\n",
      "|2019-04-02|66.900002|70.199997|66.099998| 68.970001|     68.970001|   22483300|\n",
      "|2019-04-03|70.059998|     72.0|69.120003|      70.0|          70.0|   15648300|\n",
      "|2019-04-04|70.480003|72.889999|70.220001|      72.0|          72.0|    9229300|\n",
      "+----------+---------+---------+---------+----------+--------------+-----------+\n",
      "only showing top 5 rows\n",
      "\n"
     ]
    }
   ],
   "source": [
    "LYFT_stock.show(5)"
   ]
  },
  {
   "cell_type": "markdown",
   "metadata": {},
   "source": [
    "Join the stock data to our full dataset using the date as our joiner."
   ]
  },
  {
   "cell_type": "code",
   "execution_count": 22,
   "metadata": {},
   "outputs": [],
   "source": [
    "final_DF = final_DF.join(UBER_stock,on=\"Date\",how=\"left\").join(LYFT_stock,on=\"Date\",how=\"left\")"
   ]
  },
  {
   "cell_type": "code",
   "execution_count": 59,
   "metadata": {},
   "outputs": [],
   "source": [
    "ed_final_DF = ed_df.join(UBER_stock,on=\"Date\",how=\"left\").join(LYFT_stock,on=\"Date\",how=\"left\")"
   ]
  },
  {
   "cell_type": "code",
   "execution_count": null,
   "metadata": {},
   "outputs": [],
   "source": [
    "final_DF.show(5)"
   ]
  },
  {
   "cell_type": "code",
   "execution_count": 60,
   "metadata": {},
   "outputs": [
    {
     "name": "stdout",
     "output_type": "stream",
     "text": [
      "+--------------------+--------------------+--------------------+------------+----------+-------------------+--------------------+---------------------+----------------------+----+---+------------------+----------+----------------------+------------+------------------------+-------------------------+------------------------+-------------------------+--------------------------+-------------------------+-----+-------------------+-------------------+---------+----------+---------------+--------------+---------------+-----------------+----------+-------------+---------------+\n",
      "|             Trip_ID|Trip_Start_Timestamp|  Trip_End_Timestamp|Trip_Seconds|Trip_Miles|Pickup_Census_Tract|Dropoff_Census_Tract|Pickup_Community_Area|Dropoff_Community_Area|Fare|Tip|Additional_Charges|Trip_Total|Shared_Trip_Authorized|Trips_Pooled|Pickup_Centroid_Latitude|Pickup_Centroid_Longitude|Pickup_Centroid_Location|Dropoff_Centroid_Latitude|Dropoff_Centroid_Longitude|Dropoff_Centroid_Location|label|      Trip_Start_TS|        Trip_End_TS|Trip_Year|Trip_Month|Trip_WeekNumber|Trip_DayofWeek|Trip_Start_Hour|Trip_Start_Minute|      Date|Trip_End_Hour|Trip_End_Minute|\n",
      "+--------------------+--------------------+--------------------+------------+----------+-------------------+--------------------+---------------------+----------------------+----+---+------------------+----------+----------------------+------------+------------------------+-------------------------+------------------------+-------------------------+--------------------------+-------------------------+-----+-------------------+-------------------+---------+----------+---------------+--------------+---------------+-----------------+----------+-------------+---------------+\n",
      "|bea79abbef050980e...|12/01/2019 12:15:...|12/01/2019 01:00:...|      2675.0|      32.5|        17031980000|                null|                 76.0|                  78.0|70.0|0.0|              9.06|     79.06|                 false|         1.0|           41.9790708201|           -87.9030396611|    POINT (-87.903039...|                     null|                      null|                     null|  0.0|2019-12-01 00:15:00|2019-12-01 01:00:00|     2019|        12|             48|             1|              0|               15|2019-12-01|            1|              0|\n",
      "|00f26da5601bbcf98...|12/01/2019 12:15:...|12/01/2019 12:15:...|       550.0|       2.8|        17031242100|         17031081700|                 24.0|                   8.0| 7.5|0.0|              2.55|     10.05|                 false|         1.0|           41.8996701799|           -87.6698377982|    POINT (-87.669837...|            41.8920421365|            -87.6318639497|     POINT (-87.631863...|  0.0|2019-12-01 00:15:00|2019-12-01 00:15:00|     2019|        12|             48|             1|              0|               15|2019-12-01|            0|             15|\n",
      "|02256ef89c5c4be82...|12/01/2019 12:15:...|12/01/2019 12:30:...|       922.0|       2.8|        17031080300|         17031281900|                  8.0|                  28.0|10.0|0.0|              3.11|     13.11|                 false|         1.0|           41.9074919303|           -87.6357600901|    POINT (-87.635760...|            41.8792550844|             -87.642648998|     POINT (-87.642648...|  0.0|2019-12-01 00:15:00|2019-12-01 00:30:00|     2019|        12|             48|             1|              0|               15|2019-12-01|            0|             30|\n",
      "|072cb06b1a88042c4...|12/01/2019 12:15:...|12/01/2019 12:30:...|      1475.0|      12.5|        17031310600|         17031063302|                 31.0|                   6.0|17.5|4.0|              2.55|     24.05|                 false|         1.0|           41.8563332167|           -87.6595642391|    POINT (-87.659564...|            41.9347624564|            -87.6398538587|     POINT (-87.639853...|  1.0|2019-12-01 00:15:00|2019-12-01 00:30:00|     2019|        12|             48|             1|              0|               15|2019-12-01|            0|             30|\n",
      "|099257be99c66c8b2...|12/01/2019 12:15:...|12/01/2019 12:30:...|       594.0|       2.5|        17031310600|         17031330100|                 31.0|                  33.0| 7.5|0.0|              2.55|     10.05|                 false|         1.0|           41.8563332167|           -87.6595642391|    POINT (-87.659564...|             41.859349715|            -87.6173580061|     POINT (-87.617358...|  0.0|2019-12-01 00:15:00|2019-12-01 00:30:00|     2019|        12|             48|             1|              0|               15|2019-12-01|            0|             30|\n",
      "+--------------------+--------------------+--------------------+------------+----------+-------------------+--------------------+---------------------+----------------------+----+---+------------------+----------+----------------------+------------+------------------------+-------------------------+------------------------+-------------------------+--------------------------+-------------------------+-----+-------------------+-------------------+---------+----------+---------------+--------------+---------------+-----------------+----------+-------------+---------------+\n",
      "only showing top 5 rows\n",
      "\n"
     ]
    }
   ],
   "source": [
    "ed_df.show(5)"
   ]
  },
  {
   "cell_type": "markdown",
   "metadata": {},
   "source": [
    "Code for heatmap visuals, template for any two variables with a third aggregation e.g. year x month with total fare, trip hour x pickup area with count of trips, etc."
   ]
  },
  {
   "cell_type": "code",
   "execution_count": 22,
   "metadata": {},
   "outputs": [],
   "source": [
    "#####multiple aggs at once - aggregate one time and pivot multiple times\n",
    "#heatmap_data = final_DF.groupBy('Trip_Year','Trip_Month').agg(F.sum('Fare').alias(\"Total_Fare\"), F.count(\"trip_id\").alias(\"Trip Count\"))\n",
    "\n",
    "######aggregation for year x month - only useful for millions of records\n",
    "#heatmap_data = final_DF.groupby('Trip_Year','Trip_Month').sum('Fare').sort('Trip_Year','Trip_Month') \\\n",
    "#                        .groupby('Trip_Year').pivot('Trip_Month').sum(\"sum(Fare)\").sort('Trip_Year')"
   ]
  },
  {
   "cell_type": "markdown",
   "metadata": {},
   "source": []
  },
  {
   "cell_type": "code",
   "execution_count": 23,
   "metadata": {},
   "outputs": [],
   "source": [
    "heatmap_data = final_DF.groupby('Trip_Start_Hour','Pickup_Community_Area').sum('Tip').sort('Trip_Start_Hour','Pickup_Community_Area') \\\n",
    "                        .groupby('Trip_Start_Hour').pivot('Pickup_Community_Area').sum(\"sum(Tip)\").sort('Trip_Start_Hour')"
   ]
  },
  {
   "cell_type": "code",
   "execution_count": 61,
   "metadata": {},
   "outputs": [],
   "source": [
    "ed_heatmap_data = ed_df.groupby('Trip_Start_Hour','Pickup_Community_Area').sum('Tip').sort('Trip_Start_Hour','Pickup_Community_Area') \\\n",
    "                        .groupby('Trip_Start_Hour').pivot('Pickup_Community_Area').sum(\"sum(Tip)\").sort('Trip_Start_Hour')"
   ]
  },
  {
   "cell_type": "code",
   "execution_count": 55,
   "metadata": {},
   "outputs": [
    {
     "name": "stdout",
     "output_type": "stream",
     "text": [
      "+---------------+------+------+-------+------+-------+-------+-------+--------+------+------+------+------+------+------+------+------+------+-----+------+------+-------+-------+------+-------+------+-----+------+-------+------+------+------+-------+-------+------+------+-----+-----+------+------+-----+------+------+------+------+-----+------+----+-----+------+-----+-----+-----+-----+-----+-----+-------+-----+------+------+------+------+-----+-----+-----+-----+------+-----+------+------+------+------+------+-----+------+------+-------+-------+--------+\n",
      "|Trip_Start_Hour|   1.0|   2.0|    3.0|   4.0|    5.0|    6.0|    7.0|     8.0|   9.0|  10.0|  11.0|  12.0|  13.0|  14.0|  15.0|  16.0|  17.0| 18.0|  19.0|  20.0|   21.0|   22.0|  23.0|   24.0|  25.0| 26.0|  27.0|   28.0|  29.0|  30.0|  31.0|   32.0|   33.0|  34.0|  35.0| 36.0| 37.0|  38.0|  39.0| 40.0|  41.0|  42.0|  43.0|  44.0| 45.0|  46.0|47.0| 48.0|  49.0| 50.0| 51.0| 52.0| 53.0| 54.0| 55.0|   56.0| 57.0|  58.0|  59.0|  60.0|  61.0| 62.0| 63.0| 64.0| 65.0|  66.0| 67.0|  68.0|  69.0|  70.0|  71.0|  72.0| 73.0|  74.0|  75.0|   76.0|   77.0|    78.0|\n",
      "+---------------+------+------+-------+------+-------+-------+-------+--------+------+------+------+------+------+------+------+------+------+-----+------+------+-------+-------+------+-------+------+-----+------+-------+------+------+------+-------+-------+------+------+-----+-----+------+------+-----+------+------+------+------+-----+------+----+-----+------+-----+-----+-----+-----+-----+-----+-------+-----+------+------+------+------+-----+-----+-----+-----+------+-----+------+------+------+------+------+-----+------+------+-------+-------+--------+\n",
      "|              0|8158.0|4073.0|19189.0|9856.0|11603.0|57619.0|39006.0|108860.0|2296.0|3400.0|2566.0|1147.0|1218.0|4106.0|4703.0|8088.0|1957.0|492.0|3161.0|1072.0|10675.0|35742.0|3931.0|53754.0|3190.0|594.0|1177.0|50580.0|1401.0|2173.0|8361.0|41767.0|10937.0|1998.0|1537.0|250.0|316.0|1434.0|1248.0|464.0|4576.0|1251.0|1764.0|1419.0|298.0|1041.0|96.0|399.0|1725.0|303.0|411.0|376.0|550.0|171.0|230.0|29373.0|873.0|1532.0|1021.0|3200.0|1613.0|501.0|822.0|928.0|940.0|1301.0|800.0|1052.0|1546.0|1037.0|1369.0|1615.0|592.0|1587.0|1256.0|88079.0|11410.0| 44635.0|\n",
      "|              1|6009.0|3087.0|17545.0|6570.0| 7848.0|46671.0|29451.0| 74827.0|1938.0|2741.0|1851.0| 749.0| 667.0|2994.0|3467.0|6099.0|1689.0|478.0|2541.0| 949.0| 7667.0|27263.0|2790.0|37978.0|2620.0|569.0| 839.0|29041.0| 911.0|1860.0|6900.0|22898.0| 5853.0|1407.0| 862.0|182.0|174.0|1070.0| 729.0|447.0|3279.0| 928.0|1203.0|1085.0|156.0|1882.0|42.0|332.0|1144.0|154.0|288.0|259.0|555.0|152.0|193.0|16946.0|625.0|1146.0| 765.0|2327.0|1122.0|496.0|778.0|709.0|616.0|1079.0|675.0| 686.0|1104.0| 597.0| 635.0|1438.0|527.0|1416.0| 940.0|39714.0| 8355.0| 33059.0|\n",
      "|              2|4794.0|2040.0| 8775.0|4218.0| 5406.0|32423.0|16681.0| 50248.0|1200.0|2074.0|1401.0| 527.0| 694.0|2726.0|3122.0|4902.0|1442.0|369.0|2319.0| 763.0| 5407.0|17871.0|2259.0|25241.0|1961.0|383.0| 629.0|16634.0| 848.0|2260.0|4540.0|15109.0| 3513.0|1186.0| 624.0| 99.0|211.0| 943.0| 487.0|348.0|2059.0| 554.0| 914.0| 764.0|110.0|2129.0|28.0|307.0|1053.0|123.0|426.0|217.0|336.0|104.0|129.0| 5707.0|521.0| 922.0| 614.0|1700.0| 875.0|405.0|709.0|599.0|702.0| 948.0|536.0| 664.0| 866.0| 481.0| 976.0|1067.0|416.0|1401.0| 689.0|11683.0| 5140.0| 30266.0|\n",
      "|              3|5216.0|2150.0| 6391.0|3378.0| 3758.0|21898.0|10714.0| 36548.0| 677.0|2052.0|1144.0| 471.0| 521.0|2371.0|2379.0|3891.0|1092.0|381.0|2083.0| 654.0| 3827.0|10782.0|2350.0|15859.0|1590.0|522.0| 499.0| 9801.0| 800.0|1570.0|3267.0|10437.0| 2824.0| 662.0| 626.0| 97.0|159.0| 628.0| 842.0|299.0|1834.0| 548.0|1114.0| 736.0|127.0|1236.0|39.0|242.0| 954.0|141.0|345.0|238.0|270.0|125.0|193.0| 1823.0|401.0| 941.0| 467.0|1253.0| 661.0|267.0|595.0|520.0|629.0|1404.0|750.0| 436.0| 830.0| 663.0| 768.0| 826.0|447.0| 802.0| 653.0| 4383.0| 4577.0| 57951.0|\n",
      "|              4|5949.0|3106.0| 8151.0|4625.0| 4912.0|24737.0|13809.0| 41692.0| 456.0|2227.0|1481.0| 825.0| 885.0|2868.0|2736.0|4803.0|1449.0|465.0|2121.0| 896.0| 3837.0|11192.0|3168.0|17017.0|2088.0|396.0| 463.0|11551.0|1176.0|1436.0|2873.0|17812.0| 5323.0| 807.0| 921.0|254.0|105.0|1245.0|1459.0|395.0|3039.0| 781.0|1432.0|1087.0|144.0| 464.0|37.0|318.0| 927.0|192.0|424.0|274.0|432.0| 82.0|329.0| 1741.0|328.0|1221.0| 780.0|1526.0| 717.0|478.0|692.0|603.0|757.0|1142.0|699.0| 535.0| 876.0| 790.0| 990.0|1183.0|610.0| 775.0| 546.0| 7776.0| 6605.0|124801.0|\n",
      "+---------------+------+------+-------+------+-------+-------+-------+--------+------+------+------+------+------+------+------+------+------+-----+------+------+-------+-------+------+-------+------+-----+------+-------+------+------+------+-------+-------+------+------+-----+-----+------+------+-----+------+------+------+------+-----+------+----+-----+------+-----+-----+-----+-----+-----+-----+-------+-----+------+------+------+------+-----+-----+-----+-----+------+-----+------+------+------+------+------+-----+------+------+-------+-------+--------+\n",
      "only showing top 5 rows\n",
      "\n"
     ]
    }
   ],
   "source": [
    "ed_heatmap_data.show(5)"
   ]
  },
  {
   "cell_type": "markdown",
   "metadata": {},
   "source": [
    "Code for PCA and KMeans clustering. Fill in all null values."
   ]
  },
  {
   "cell_type": "code",
   "execution_count": 24,
   "metadata": {},
   "outputs": [],
   "source": [
    "PCA_DF = final_DF"
   ]
  },
  {
   "cell_type": "code",
   "execution_count": 56,
   "metadata": {},
   "outputs": [],
   "source": [
    "ed_PCA_DF = ed_df"
   ]
  },
  {
   "cell_type": "code",
   "execution_count": 25,
   "metadata": {},
   "outputs": [],
   "source": [
    "PCA_DF = PCA_DF.fillna(\"100\",subset=[\"Pickup_Community_Area\",\"Dropoff_Community_Area\"])"
   ]
  },
  {
   "cell_type": "code",
   "execution_count": null,
   "metadata": {},
   "outputs": [],
   "source": [
    "# ed_df already filled na as 78"
   ]
  },
  {
   "cell_type": "code",
   "execution_count": 26,
   "metadata": {},
   "outputs": [],
   "source": [
    "PCA_DF = PCA_DF.na.fill(0)"
   ]
  },
  {
   "cell_type": "code",
   "execution_count": 62,
   "metadata": {},
   "outputs": [],
   "source": [
    "ed_PCA_DF = ed_PCA_DF.na.fill(0)"
   ]
  },
  {
   "cell_type": "code",
   "execution_count": 27,
   "metadata": {},
   "outputs": [],
   "source": [
    "PCA_DF = PCA_DF.na.fill(0,subset=[\"Trip_Seconds\", \"Trip_Miles\", \"Fare\", \"Shared_Trip_Authorized\", \"Trips_Pooled\", \\\n",
    "                   \"Trip_WeekNumber\",\"Trip_DayofWeek\",\"Trip_Start_Hour\",\"Trip_End_Hour\",\"UBER_Open\",\"UBER_High\",\"UBER_Low\",\"UBER_Close\",\"UBER_Adj Close\",\"UBER_Volume\", \\\n",
    "                   \"LYFT_Open\",\"LYFT_High\",\"LYFT_Low\",\"LYFT_Close\",\"LYFT_Adj Close\",\"LYFT_Volume\"])"
   ]
  },
  {
   "cell_type": "code",
   "execution_count": 63,
   "metadata": {},
   "outputs": [
    {
     "ename": "AnalysisException",
     "evalue": "Cannot resolve column name \"UBER_Open\" among (Trip_ID, Trip_Start_Timestamp, Trip_End_Timestamp, Trip_Seconds, Trip_Miles, Pickup_Census_Tract, Dropoff_Census_Tract, Pickup_Community_Area, Dropoff_Community_Area, Fare, Tip, Additional_Charges, Trip_Total, Shared_Trip_Authorized, Trips_Pooled, Pickup_Centroid_Latitude, Pickup_Centroid_Longitude, Pickup_Centroid_Location, Dropoff_Centroid_Latitude, Dropoff_Centroid_Longitude, Dropoff_Centroid_Location, label, Trip_Start_TS, Trip_End_TS, Trip_Year, Trip_Month, Trip_WeekNumber, Trip_DayofWeek, Trip_Start_Hour, Trip_Start_Minute, Date, Trip_End_Hour, Trip_End_Minute);",
     "output_type": "error",
     "traceback": [
      "\u001b[0;31m---------------------------------------------------------------------------\u001b[0m",
      "\u001b[0;31mAnalysisException\u001b[0m                         Traceback (most recent call last)",
      "\u001b[0;32m<ipython-input-63-e681cdab4f27>\u001b[0m in \u001b[0;36m<module>\u001b[0;34m\u001b[0m\n\u001b[0;32m----> 1\u001b[0;31m ed_PCA_DF = ed_PCA_DF.na.fill(0,subset=[\"Trip_Seconds\", \"Trip_Miles\", \"Fare\", \"Shared_Trip_Authorized\", \"Trips_Pooled\", \\\n\u001b[0m\u001b[1;32m      2\u001b[0m                    \u001b[0;34m\"Trip_WeekNumber\"\u001b[0m\u001b[0;34m,\u001b[0m\u001b[0;34m\"Trip_DayofWeek\"\u001b[0m\u001b[0;34m,\u001b[0m\u001b[0;34m\"Trip_Start_Hour\"\u001b[0m\u001b[0;34m,\u001b[0m\u001b[0;34m\"Trip_End_Hour\"\u001b[0m\u001b[0;34m,\u001b[0m\u001b[0;34m\"UBER_Open\"\u001b[0m\u001b[0;34m,\u001b[0m\u001b[0;34m\"UBER_High\"\u001b[0m\u001b[0;34m,\u001b[0m\u001b[0;34m\"UBER_Low\"\u001b[0m\u001b[0;34m,\u001b[0m\u001b[0;34m\"UBER_Close\"\u001b[0m\u001b[0;34m,\u001b[0m\u001b[0;34m\"UBER_Adj Close\"\u001b[0m\u001b[0;34m,\u001b[0m\u001b[0;34m\"UBER_Volume\"\u001b[0m\u001b[0;34m,\u001b[0m\u001b[0;31m \u001b[0m\u001b[0;31m\\\u001b[0m\u001b[0;34m\u001b[0m\u001b[0;34m\u001b[0m\u001b[0m\n\u001b[1;32m      3\u001b[0m                    \"LYFT_Open\",\"LYFT_High\",\"LYFT_Low\",\"LYFT_Close\",\"LYFT_Adj Close\",\"LYFT_Volume\"])\n",
      "\u001b[0;32m/usr/local/spark/python/pyspark/sql/dataframe.py\u001b[0m in \u001b[0;36mfill\u001b[0;34m(self, value, subset)\u001b[0m\n\u001b[1;32m   2230\u001b[0m \u001b[0;34m\u001b[0m\u001b[0m\n\u001b[1;32m   2231\u001b[0m     \u001b[0;32mdef\u001b[0m \u001b[0mfill\u001b[0m\u001b[0;34m(\u001b[0m\u001b[0mself\u001b[0m\u001b[0;34m,\u001b[0m \u001b[0mvalue\u001b[0m\u001b[0;34m,\u001b[0m \u001b[0msubset\u001b[0m\u001b[0;34m=\u001b[0m\u001b[0;32mNone\u001b[0m\u001b[0;34m)\u001b[0m\u001b[0;34m:\u001b[0m\u001b[0;34m\u001b[0m\u001b[0;34m\u001b[0m\u001b[0m\n\u001b[0;32m-> 2232\u001b[0;31m         \u001b[0;32mreturn\u001b[0m \u001b[0mself\u001b[0m\u001b[0;34m.\u001b[0m\u001b[0mdf\u001b[0m\u001b[0;34m.\u001b[0m\u001b[0mfillna\u001b[0m\u001b[0;34m(\u001b[0m\u001b[0mvalue\u001b[0m\u001b[0;34m=\u001b[0m\u001b[0mvalue\u001b[0m\u001b[0;34m,\u001b[0m \u001b[0msubset\u001b[0m\u001b[0;34m=\u001b[0m\u001b[0msubset\u001b[0m\u001b[0;34m)\u001b[0m\u001b[0;34m\u001b[0m\u001b[0;34m\u001b[0m\u001b[0m\n\u001b[0m\u001b[1;32m   2233\u001b[0m \u001b[0;34m\u001b[0m\u001b[0m\n\u001b[1;32m   2234\u001b[0m     \u001b[0mfill\u001b[0m\u001b[0;34m.\u001b[0m\u001b[0m__doc__\u001b[0m \u001b[0;34m=\u001b[0m \u001b[0mDataFrame\u001b[0m\u001b[0;34m.\u001b[0m\u001b[0mfillna\u001b[0m\u001b[0;34m.\u001b[0m\u001b[0m__doc__\u001b[0m\u001b[0;34m\u001b[0m\u001b[0;34m\u001b[0m\u001b[0m\n",
      "\u001b[0;32m/usr/local/spark/python/pyspark/sql/dataframe.py\u001b[0m in \u001b[0;36mfillna\u001b[0;34m(self, value, subset)\u001b[0m\n\u001b[1;32m   1771\u001b[0m                 \u001b[0;32mraise\u001b[0m \u001b[0mValueError\u001b[0m\u001b[0;34m(\u001b[0m\u001b[0;34m\"subset should be a list or tuple of column names\"\u001b[0m\u001b[0;34m)\u001b[0m\u001b[0;34m\u001b[0m\u001b[0;34m\u001b[0m\u001b[0m\n\u001b[1;32m   1772\u001b[0m \u001b[0;34m\u001b[0m\u001b[0m\n\u001b[0;32m-> 1773\u001b[0;31m             \u001b[0;32mreturn\u001b[0m \u001b[0mDataFrame\u001b[0m\u001b[0;34m(\u001b[0m\u001b[0mself\u001b[0m\u001b[0;34m.\u001b[0m\u001b[0m_jdf\u001b[0m\u001b[0;34m.\u001b[0m\u001b[0mna\u001b[0m\u001b[0;34m(\u001b[0m\u001b[0;34m)\u001b[0m\u001b[0;34m.\u001b[0m\u001b[0mfill\u001b[0m\u001b[0;34m(\u001b[0m\u001b[0mvalue\u001b[0m\u001b[0;34m,\u001b[0m \u001b[0mself\u001b[0m\u001b[0;34m.\u001b[0m\u001b[0m_jseq\u001b[0m\u001b[0;34m(\u001b[0m\u001b[0msubset\u001b[0m\u001b[0;34m)\u001b[0m\u001b[0;34m)\u001b[0m\u001b[0;34m,\u001b[0m \u001b[0mself\u001b[0m\u001b[0;34m.\u001b[0m\u001b[0msql_ctx\u001b[0m\u001b[0;34m)\u001b[0m\u001b[0;34m\u001b[0m\u001b[0;34m\u001b[0m\u001b[0m\n\u001b[0m\u001b[1;32m   1774\u001b[0m \u001b[0;34m\u001b[0m\u001b[0m\n\u001b[1;32m   1775\u001b[0m     \u001b[0;34m@\u001b[0m\u001b[0msince\u001b[0m\u001b[0;34m(\u001b[0m\u001b[0;36m1.4\u001b[0m\u001b[0;34m)\u001b[0m\u001b[0;34m\u001b[0m\u001b[0;34m\u001b[0m\u001b[0m\n",
      "\u001b[0;32m/usr/local/spark/python/lib/py4j-0.10.9-src.zip/py4j/java_gateway.py\u001b[0m in \u001b[0;36m__call__\u001b[0;34m(self, *args)\u001b[0m\n\u001b[1;32m   1302\u001b[0m \u001b[0;34m\u001b[0m\u001b[0m\n\u001b[1;32m   1303\u001b[0m         \u001b[0manswer\u001b[0m \u001b[0;34m=\u001b[0m \u001b[0mself\u001b[0m\u001b[0;34m.\u001b[0m\u001b[0mgateway_client\u001b[0m\u001b[0;34m.\u001b[0m\u001b[0msend_command\u001b[0m\u001b[0;34m(\u001b[0m\u001b[0mcommand\u001b[0m\u001b[0;34m)\u001b[0m\u001b[0;34m\u001b[0m\u001b[0;34m\u001b[0m\u001b[0m\n\u001b[0;32m-> 1304\u001b[0;31m         return_value = get_return_value(\n\u001b[0m\u001b[1;32m   1305\u001b[0m             answer, self.gateway_client, self.target_id, self.name)\n\u001b[1;32m   1306\u001b[0m \u001b[0;34m\u001b[0m\u001b[0m\n",
      "\u001b[0;32m/usr/local/spark/python/pyspark/sql/utils.py\u001b[0m in \u001b[0;36mdeco\u001b[0;34m(*a, **kw)\u001b[0m\n\u001b[1;32m    132\u001b[0m                 \u001b[0;31m# Hide where the exception came from that shows a non-Pythonic\u001b[0m\u001b[0;34m\u001b[0m\u001b[0;34m\u001b[0m\u001b[0;34m\u001b[0m\u001b[0m\n\u001b[1;32m    133\u001b[0m                 \u001b[0;31m# JVM exception message.\u001b[0m\u001b[0;34m\u001b[0m\u001b[0;34m\u001b[0m\u001b[0;34m\u001b[0m\u001b[0m\n\u001b[0;32m--> 134\u001b[0;31m                 \u001b[0mraise_from\u001b[0m\u001b[0;34m(\u001b[0m\u001b[0mconverted\u001b[0m\u001b[0;34m)\u001b[0m\u001b[0;34m\u001b[0m\u001b[0;34m\u001b[0m\u001b[0m\n\u001b[0m\u001b[1;32m    135\u001b[0m             \u001b[0;32melse\u001b[0m\u001b[0;34m:\u001b[0m\u001b[0;34m\u001b[0m\u001b[0;34m\u001b[0m\u001b[0m\n\u001b[1;32m    136\u001b[0m                 \u001b[0;32mraise\u001b[0m\u001b[0;34m\u001b[0m\u001b[0;34m\u001b[0m\u001b[0m\n",
      "\u001b[0;32m/usr/local/spark/python/pyspark/sql/utils.py\u001b[0m in \u001b[0;36mraise_from\u001b[0;34m(e)\u001b[0m\n",
      "\u001b[0;31mAnalysisException\u001b[0m: Cannot resolve column name \"UBER_Open\" among (Trip_ID, Trip_Start_Timestamp, Trip_End_Timestamp, Trip_Seconds, Trip_Miles, Pickup_Census_Tract, Dropoff_Census_Tract, Pickup_Community_Area, Dropoff_Community_Area, Fare, Tip, Additional_Charges, Trip_Total, Shared_Trip_Authorized, Trips_Pooled, Pickup_Centroid_Latitude, Pickup_Centroid_Longitude, Pickup_Centroid_Location, Dropoff_Centroid_Latitude, Dropoff_Centroid_Longitude, Dropoff_Centroid_Location, label, Trip_Start_TS, Trip_End_TS, Trip_Year, Trip_Month, Trip_WeekNumber, Trip_DayofWeek, Trip_Start_Hour, Trip_Start_Minute, Date, Trip_End_Hour, Trip_End_Minute);"
     ]
    }
   ],
   "source": [
    "ed_PCA_DF = ed_PCA_DF.na.fill(0,subset=[\"Trip_Seconds\", \"Trip_Miles\", \"Fare\", \"Shared_Trip_Authorized\", \"Trips_Pooled\", \\\n",
    "                   \"Trip_WeekNumber\",\"Trip_DayofWeek\",\"Trip_Start_Hour\",\"Trip_End_Hour\",\"UBER_Open\",\"UBER_High\",\"UBER_Low\",\"UBER_Close\",\"UBER_Adj Close\",\"UBER_Volume\", \\\n",
    "                   \"LYFT_Open\",\"LYFT_High\",\"LYFT_Low\",\"LYFT_Close\",\"LYFT_Adj Close\",\"LYFT_Volume\"])"
   ]
  },
  {
   "cell_type": "markdown",
   "metadata": {},
   "source": [
    "Encode our categorical variables."
   ]
  },
  {
   "cell_type": "code",
   "execution_count": 28,
   "metadata": {},
   "outputs": [],
   "source": [
    "pickup_indexer = StringIndexer(inputCol=\"Pickup_Community_Area\", outputCol=\"Pickup_Community_Area_idx\")\n",
    "dropoff_indexer = StringIndexer(inputCol=\"Dropoff_Community_Area\", outputCol=\"Dropoff_Community_Area_idx\")\n",
    "\n",
    "PCA_DF = pickup_indexer.fit(PCA_DF).transform(PCA_DF)\n",
    "PCA_DF = dropoff_indexer.fit(PCA_DF).transform(PCA_DF)"
   ]
  },
  {
   "cell_type": "code",
   "execution_count": 29,
   "metadata": {},
   "outputs": [
    {
     "name": "stdout",
     "output_type": "stream",
     "text": [
      "+-------------------------------------------------------+-------------------------------------------------------+-----------------------------------------------------+---------------------------------------------------------+-----------------------------------------------------------------+-----------------------------------------------------------+-------------------------------------------------------+-------------------------------------------------------+-----------------------------------------------------+---------------------------------------------------------+-----------------------------------------------------------------+-----------------------------------------------------------+\n",
      "|count(CASE WHEN (UBER_Open IS NULL) THEN UBER_Open END)|count(CASE WHEN (UBER_High IS NULL) THEN UBER_High END)|count(CASE WHEN (UBER_Low IS NULL) THEN UBER_Low END)|count(CASE WHEN (UBER_Close IS NULL) THEN UBER_Close END)|count(CASE WHEN (UBER_Adj Close IS NULL) THEN UBER_Adj Close END)|count(CASE WHEN (UBER_Volume IS NULL) THEN UBER_Volume END)|count(CASE WHEN (LYFT_Open IS NULL) THEN LYFT_Open END)|count(CASE WHEN (LYFT_High IS NULL) THEN LYFT_High END)|count(CASE WHEN (LYFT_Low IS NULL) THEN LYFT_Low END)|count(CASE WHEN (LYFT_Close IS NULL) THEN LYFT_Close END)|count(CASE WHEN (LYFT_Adj Close IS NULL) THEN LYFT_Adj Close END)|count(CASE WHEN (LYFT_Volume IS NULL) THEN LYFT_Volume END)|\n",
      "+-------------------------------------------------------+-------------------------------------------------------+-----------------------------------------------------+---------------------------------------------------------+-----------------------------------------------------------------+-----------------------------------------------------------+-------------------------------------------------------+-------------------------------------------------------+-----------------------------------------------------+---------------------------------------------------------+-----------------------------------------------------------------+-----------------------------------------------------------+\n",
      "|                                                      0|                                                      0|                                                    0|                                                        0|                                                                0|                                                          0|                                                      0|                                                      0|                                                    0|                                                        0|                                                                0|                                                          0|\n",
      "+-------------------------------------------------------+-------------------------------------------------------+-----------------------------------------------------+---------------------------------------------------------+-----------------------------------------------------------------+-----------------------------------------------------------+-------------------------------------------------------+-------------------------------------------------------+-----------------------------------------------------+---------------------------------------------------------+-----------------------------------------------------------------+-----------------------------------------------------------+\n",
      "\n"
     ]
    }
   ],
   "source": [
    "PCA_DF.select([F.count(F.when(F.col(c).isNull(),c)) for c in [\"UBER_Open\",\"UBER_High\",\"UBER_Low\",\"UBER_Close\",\"UBER_Adj Close\",\"UBER_Volume\", \\\n",
    "                   \"LYFT_Open\",\"LYFT_High\",\"LYFT_Low\",\"LYFT_Close\",\"LYFT_Adj Close\",\"LYFT_Volume\"]]).show()"
   ]
  },
  {
   "cell_type": "code",
   "execution_count": 30,
   "metadata": {},
   "outputs": [
    {
     "name": "stdout",
     "output_type": "stream",
     "text": [
      "root\n",
      " |-- Date: date (nullable = true)\n",
      " |-- trip_id: string (nullable = true)\n",
      " |-- Trip_Start_Timestamp_str: string (nullable = true)\n",
      " |-- Trip_End_Timestamp_str: string (nullable = true)\n",
      " |-- Trip_Seconds_str: string (nullable = true)\n",
      " |-- Trip_Miles_str: string (nullable = true)\n",
      " |-- Pickup_Census_Tract: string (nullable = true)\n",
      " |-- Dropoff_Census_Tract: string (nullable = true)\n",
      " |-- Pickup_Community_Area_str: string (nullable = true)\n",
      " |-- Dropoff_Community_Area_str: string (nullable = true)\n",
      " |-- Fare_str: string (nullable = true)\n",
      " |-- Tip_str: string (nullable = true)\n",
      " |-- Additional_Charges_str: string (nullable = true)\n",
      " |-- Trip_Total_str: string (nullable = true)\n",
      " |-- Shared_Trip_Authorized_str: string (nullable = true)\n",
      " |-- Trips_Pooled_str: string (nullable = true)\n",
      " |-- Pickup_Centroid_Latitude: string (nullable = true)\n",
      " |-- Pickup_Centroid_Longitude: string (nullable = true)\n",
      " |-- Pickup_Centroid_Location: string (nullable = true)\n",
      " |-- Dropoff_Centroid_Latitude: string (nullable = true)\n",
      " |-- Dropoff_Centroid_Longitude: string (nullable = true)\n",
      " |-- Dropoff_Centroid_Location: string (nullable = true)\n",
      " |-- Trip_Start_Timestamp: timestamp (nullable = true)\n",
      " |-- Trip_End_Timestamp: timestamp (nullable = true)\n",
      " |-- Trip_Seconds: integer (nullable = true)\n",
      " |-- Trip_Miles: double (nullable = false)\n",
      " |-- Pickup_Community_Area: integer (nullable = true)\n",
      " |-- Dropoff_Community_Area: integer (nullable = true)\n",
      " |-- Fare: double (nullable = false)\n",
      " |-- Tip: double (nullable = false)\n",
      " |-- Additional_Charges: double (nullable = false)\n",
      " |-- Trip_Total: double (nullable = false)\n",
      " |-- Shared_Trip_Authorized: boolean (nullable = true)\n",
      " |-- Trips_Pooled: integer (nullable = true)\n",
      " |-- Trip_Year: integer (nullable = true)\n",
      " |-- Trip_Month: integer (nullable = true)\n",
      " |-- Trip_WeekNumber: integer (nullable = true)\n",
      " |-- Trip_DayofWeek: integer (nullable = true)\n",
      " |-- Trip_Start_Hour: integer (nullable = true)\n",
      " |-- Trip_End_Hour: integer (nullable = true)\n",
      " |-- UBER_Open: double (nullable = false)\n",
      " |-- UBER_High: double (nullable = false)\n",
      " |-- UBER_Low: double (nullable = false)\n",
      " |-- UBER_Close: double (nullable = false)\n",
      " |-- UBER_Adj Close: double (nullable = false)\n",
      " |-- UBER_Volume: integer (nullable = true)\n",
      " |-- LYFT_Open: double (nullable = false)\n",
      " |-- LYFT_High: double (nullable = false)\n",
      " |-- LYFT_Low: double (nullable = false)\n",
      " |-- LYFT_Close: double (nullable = false)\n",
      " |-- LYFT_Adj Close: double (nullable = false)\n",
      " |-- LYFT_Volume: integer (nullable = true)\n",
      " |-- Pickup_Community_Area_idx: double (nullable = false)\n",
      " |-- Dropoff_Community_Area_idx: double (nullable = false)\n",
      "\n"
     ]
    }
   ],
   "source": [
    "PCA_DF.printSchema()"
   ]
  },
  {
   "cell_type": "code",
   "execution_count": null,
   "metadata": {},
   "outputs": [],
   "source": []
  },
  {
   "cell_type": "code",
   "execution_count": 31,
   "metadata": {},
   "outputs": [],
   "source": [
    "encoder = OneHotEncoder(inputCols=[\"Pickup_Community_Area_idx\",\"Dropoff_Community_Area_idx\"],outputCols=[\"Pickup_Community_Area_ctgy\",\"Dropoff_Community_Area_ctgy\"])\n",
    "PCA_DF = encoder.fit(PCA_DF).transform(PCA_DF)"
   ]
  },
  {
   "cell_type": "code",
   "execution_count": 32,
   "metadata": {},
   "outputs": [
    {
     "data": {
      "text/plain": [
       "['Date',\n",
       " 'trip_id',\n",
       " 'Trip_Start_Timestamp_str',\n",
       " 'Trip_End_Timestamp_str',\n",
       " 'Trip_Seconds_str',\n",
       " 'Trip_Miles_str',\n",
       " 'Pickup_Census_Tract',\n",
       " 'Dropoff_Census_Tract',\n",
       " 'Pickup_Community_Area_str',\n",
       " 'Dropoff_Community_Area_str',\n",
       " 'Fare_str',\n",
       " 'Tip_str',\n",
       " 'Additional_Charges_str',\n",
       " 'Trip_Total_str',\n",
       " 'Shared_Trip_Authorized_str',\n",
       " 'Trips_Pooled_str',\n",
       " 'Pickup_Centroid_Latitude',\n",
       " 'Pickup_Centroid_Longitude',\n",
       " 'Pickup_Centroid_Location',\n",
       " 'Dropoff_Centroid_Latitude',\n",
       " 'Dropoff_Centroid_Longitude',\n",
       " 'Dropoff_Centroid_Location',\n",
       " 'Trip_Start_Timestamp',\n",
       " 'Trip_End_Timestamp',\n",
       " 'Trip_Seconds',\n",
       " 'Trip_Miles',\n",
       " 'Pickup_Community_Area',\n",
       " 'Dropoff_Community_Area',\n",
       " 'Fare',\n",
       " 'Tip',\n",
       " 'Additional_Charges',\n",
       " 'Trip_Total',\n",
       " 'Shared_Trip_Authorized',\n",
       " 'Trips_Pooled',\n",
       " 'Trip_Year',\n",
       " 'Trip_Month',\n",
       " 'Trip_WeekNumber',\n",
       " 'Trip_DayofWeek',\n",
       " 'Trip_Start_Hour',\n",
       " 'Trip_End_Hour',\n",
       " 'UBER_Open',\n",
       " 'UBER_High',\n",
       " 'UBER_Low',\n",
       " 'UBER_Close',\n",
       " 'UBER_Adj Close',\n",
       " 'UBER_Volume',\n",
       " 'LYFT_Open',\n",
       " 'LYFT_High',\n",
       " 'LYFT_Low',\n",
       " 'LYFT_Close',\n",
       " 'LYFT_Adj Close',\n",
       " 'LYFT_Volume',\n",
       " 'Pickup_Community_Area_idx',\n",
       " 'Dropoff_Community_Area_idx',\n",
       " 'Pickup_Community_Area_ctgy',\n",
       " 'Dropoff_Community_Area_ctgy']"
      ]
     },
     "execution_count": 32,
     "metadata": {},
     "output_type": "execute_result"
    }
   ],
   "source": [
    "PCA_DF.columns"
   ]
  },
  {
   "cell_type": "markdown",
   "metadata": {},
   "source": [
    "Make a list of all final variables appliciable to the algorithms."
   ]
  },
  {
   "cell_type": "code",
   "execution_count": 33,
   "metadata": {},
   "outputs": [],
   "source": [
    "regressors_list = [\"Trip_Seconds\", \"Trip_Miles\", \"Pickup_Community_Area_ctgy\", \"Dropoff_Community_Area_ctgy\", \"Fare\", \"Shared_Trip_Authorized\", \"Trips_Pooled\", \\\n",
    "                   \"Trip_WeekNumber\",\"Trip_DayofWeek\",\"Trip_Start_Hour\",\"Trip_End_Hour\",\"UBER_Open\",\"UBER_High\",\"UBER_Low\",\"UBER_Close\",\"UBER_Adj Close\",\"UBER_Volume\", \\\n",
    "                   \"LYFT_Open\",\"LYFT_High\",\"LYFT_Low\",\"LYFT_Close\",\"LYFT_Adj Close\",\"LYFT_Volume\"]"
   ]
  },
  {
   "cell_type": "code",
   "execution_count": 34,
   "metadata": {},
   "outputs": [],
   "source": [
    "assembler = VectorAssembler(inputCols=regressors_list,outputCol=\"features\")\n",
    "PCA_DF = assembler.transform(PCA_DF)"
   ]
  },
  {
   "cell_type": "markdown",
   "metadata": {},
   "source": [
    "Create PCA and KMeans models. Pull out important information for both."
   ]
  },
  {
   "cell_type": "code",
   "execution_count": 35,
   "metadata": {},
   "outputs": [],
   "source": [
    "pca = PCA(k=2, inputCol=\"features\",outputCol=\"pcaFeature\")\n",
    "pca_model = pca.fit(PCA_DF)"
   ]
  },
  {
   "cell_type": "code",
   "execution_count": 36,
   "metadata": {},
   "outputs": [],
   "source": [
    "PCA = pca_model.transform(PCA_DF).select(\"pcaFeature\")"
   ]
  },
  {
   "cell_type": "markdown",
   "metadata": {},
   "source": [
    "The original data points will need to be rejoined to the PCs to see the "
   ]
  },
  {
   "cell_type": "code",
   "execution_count": 44,
   "metadata": {},
   "outputs": [],
   "source": [
    "import matplotlib.pyplot as plt\n",
    "import numpy as np"
   ]
  },
  {
   "cell_type": "code",
   "execution_count": 59,
   "metadata": {},
   "outputs": [],
   "source": [
    "np.array(PCA.rdd.map(lambda x: x[0]).collect())"
   ]
  },
  {
   "cell_type": "code",
   "execution_count": 99,
   "metadata": {},
   "outputs": [
    {
     "data": {
      "text/plain": [
       "DenseVector([0.9999, 0.0001])"
      ]
     },
     "execution_count": 99,
     "metadata": {},
     "output_type": "execute_result"
    }
   ],
   "source": [
    "pca_model.explainedVariance"
   ]
  },
  {
   "cell_type": "code",
   "execution_count": 105,
   "metadata": {},
   "outputs": [
    {
     "data": {
      "text/plain": [
       "DenseMatrix(157, 2, [-0.9999, -0.0105, 0.0001, 0.0, 0.0, 0.0, 0.0, 0.0, ..., 0.0, 0.0, 0.0, 0.0, 0.0, 0.0, 0.0, 0.0], 0)"
      ]
     },
     "execution_count": 105,
     "metadata": {},
     "output_type": "execute_result"
    }
   ],
   "source": [
    "pca_model.pc"
   ]
  },
  {
   "cell_type": "code",
   "execution_count": null,
   "metadata": {},
   "outputs": [],
   "source": []
  },
  {
   "cell_type": "code",
   "execution_count": 106,
   "metadata": {},
   "outputs": [],
   "source": [
    "kmeans =KMeans().setK(2)\n",
    "kmeans_model = kmeans.fit(PCA_DF)\n",
    "kmeans_summary = kmeans_model.summary"
   ]
  },
  {
   "cell_type": "code",
   "execution_count": 107,
   "metadata": {},
   "outputs": [
    {
     "data": {
      "text/plain": [
       "[238, 761]"
      ]
     },
     "execution_count": 107,
     "metadata": {},
     "output_type": "execute_result"
    }
   ],
   "source": [
    "kmeans_summary.clusterSizes"
   ]
  },
  {
   "cell_type": "code",
   "execution_count": 115,
   "metadata": {},
   "outputs": [
    {
     "name": "stdout",
     "output_type": "stream",
     "text": [
      "+----------+\n",
      "|prediction|\n",
      "+----------+\n",
      "|         1|\n",
      "|         1|\n",
      "|         0|\n",
      "|         1|\n",
      "|         1|\n",
      "|         1|\n",
      "|         1|\n",
      "|         1|\n",
      "|         1|\n",
      "|         0|\n",
      "|         1|\n",
      "|         1|\n",
      "|         1|\n",
      "|         1|\n",
      "|         1|\n",
      "|         1|\n",
      "|         1|\n",
      "|         1|\n",
      "|         0|\n",
      "|         1|\n",
      "+----------+\n",
      "only showing top 20 rows\n",
      "\n"
     ]
    }
   ],
   "source": [
    "kmeans_summary.cluster.show(20)"
   ]
  },
  {
   "cell_type": "code",
   "execution_count": null,
   "metadata": {},
   "outputs": [],
   "source": []
  }
 ],
 "metadata": {
  "kernelspec": {
   "display_name": "DS 5559 Spark 3",
   "language": "python",
   "name": "ds5559_spark3"
  },
  "language_info": {
   "codemirror_mode": {
    "name": "ipython",
    "version": 3
   },
   "file_extension": ".py",
   "mimetype": "text/x-python",
   "name": "python",
   "nbconvert_exporter": "python",
   "pygments_lexer": "ipython3",
   "version": "3.8.5"
  }
 },
 "nbformat": 4,
 "nbformat_minor": 4
}
